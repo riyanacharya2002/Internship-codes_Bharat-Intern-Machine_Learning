{
 "cells": [
  {
   "cell_type": "code",
   "execution_count": 57,
   "metadata": {},
   "outputs": [],
   "source": [
    "# code for wine quality prediction using linear regression\n"
   ]
  },
  {
   "cell_type": "code",
   "execution_count": 58,
   "metadata": {},
   "outputs": [],
   "source": [
    "# dataset link: https://drive.google.com/file/d/1w2JioB3JXQuYud0tCzZgKOP52PgR4w3v/view?usp=share_link"
   ]
  },
  {
   "cell_type": "code",
   "execution_count": 59,
   "metadata": {
    "_cell_guid": "79c7e3d0-c299-4dcb-8224-4455121ee9b0",
    "_uuid": "d629ff2d2480ee46fbb7e2d37f6b5fab8052498a",
    "execution": {
     "iopub.execute_input": "2020-10-05T17:04:01.708480Z",
     "iopub.status.busy": "2020-10-05T17:04:01.707405Z",
     "iopub.status.idle": "2020-10-05T17:04:01.710610Z",
     "shell.execute_reply": "2020-10-05T17:04:01.709904Z"
    },
    "papermill": {
     "duration": 0.117556,
     "end_time": "2020-10-05T17:04:01.710757",
     "exception": false,
     "start_time": "2020-10-05T17:04:01.593201",
     "status": "completed"
    },
    "tags": []
   },
   "outputs": [],
   "source": [
    "import warnings\n",
    "warnings.filterwarnings('ignore')"
   ]
  },
  {
   "cell_type": "code",
   "execution_count": 60,
   "metadata": {
    "execution": {
     "iopub.execute_input": "2020-10-05T17:04:01.917717Z",
     "iopub.status.busy": "2020-10-05T17:04:01.916832Z",
     "iopub.status.idle": "2020-10-05T17:04:03.318205Z",
     "shell.execute_reply": "2020-10-05T17:04:03.317298Z"
    },
    "papermill": {
     "duration": 1.506392,
     "end_time": "2020-10-05T17:04:03.318430",
     "exception": false,
     "start_time": "2020-10-05T17:04:01.812038",
     "status": "completed"
    },
    "tags": []
   },
   "outputs": [],
   "source": [
    "import pandas as pd\n",
    "import numpy as np\n",
    "import matplotlib.pyplot as plt\n",
    "import seaborn as sns\n",
    "%matplotlib inline"
   ]
  },
  {
   "cell_type": "code",
   "execution_count": 61,
   "metadata": {
    "execution": {
     "iopub.execute_input": "2020-10-05T17:04:03.521422Z",
     "iopub.status.busy": "2020-10-05T17:04:03.519983Z",
     "iopub.status.idle": "2020-10-05T17:04:03.541471Z",
     "shell.execute_reply": "2020-10-05T17:04:03.540682Z"
    },
    "papermill": {
     "duration": 0.125672,
     "end_time": "2020-10-05T17:04:03.541652",
     "exception": false,
     "start_time": "2020-10-05T17:04:03.415980",
     "status": "completed"
    },
    "tags": []
   },
   "outputs": [],
   "source": [
    "wine = pd.read_csv(r\"C:\\Users\\dynam\\Downloads\\winequality-red.csv\")"
   ]
  },
  {
   "cell_type": "code",
   "execution_count": 62,
   "metadata": {
    "execution": {
     "iopub.execute_input": "2020-10-05T17:04:03.756477Z",
     "iopub.status.busy": "2020-10-05T17:04:03.755420Z",
     "iopub.status.idle": "2020-10-05T17:04:03.772107Z",
     "shell.execute_reply": "2020-10-05T17:04:03.770982Z"
    },
    "papermill": {
     "duration": 0.131772,
     "end_time": "2020-10-05T17:04:03.772249",
     "exception": false,
     "start_time": "2020-10-05T17:04:03.640477",
     "status": "completed"
    },
    "tags": []
   },
   "outputs": [
    {
     "data": {
      "text/html": [
       "<div>\n",
       "<style scoped>\n",
       "    .dataframe tbody tr th:only-of-type {\n",
       "        vertical-align: middle;\n",
       "    }\n",
       "\n",
       "    .dataframe tbody tr th {\n",
       "        vertical-align: top;\n",
       "    }\n",
       "\n",
       "    .dataframe thead th {\n",
       "        text-align: right;\n",
       "    }\n",
       "</style>\n",
       "<table border=\"1\" class=\"dataframe\">\n",
       "  <thead>\n",
       "    <tr style=\"text-align: right;\">\n",
       "      <th></th>\n",
       "      <th>fixed acidity</th>\n",
       "      <th>volatile acidity</th>\n",
       "      <th>citric acid</th>\n",
       "      <th>residual sugar</th>\n",
       "      <th>chlorides</th>\n",
       "      <th>free sulfur dioxide</th>\n",
       "      <th>total sulfur dioxide</th>\n",
       "      <th>density</th>\n",
       "      <th>pH</th>\n",
       "      <th>sulphates</th>\n",
       "      <th>alcohol</th>\n",
       "      <th>quality</th>\n",
       "    </tr>\n",
       "  </thead>\n",
       "  <tbody>\n",
       "    <tr>\n",
       "      <th>0</th>\n",
       "      <td>7.4</td>\n",
       "      <td>0.70</td>\n",
       "      <td>0.00</td>\n",
       "      <td>1.9</td>\n",
       "      <td>0.076</td>\n",
       "      <td>11.0</td>\n",
       "      <td>34.0</td>\n",
       "      <td>0.9978</td>\n",
       "      <td>3.51</td>\n",
       "      <td>0.56</td>\n",
       "      <td>9.4</td>\n",
       "      <td>5</td>\n",
       "    </tr>\n",
       "    <tr>\n",
       "      <th>1</th>\n",
       "      <td>7.8</td>\n",
       "      <td>0.88</td>\n",
       "      <td>0.00</td>\n",
       "      <td>2.6</td>\n",
       "      <td>0.098</td>\n",
       "      <td>25.0</td>\n",
       "      <td>67.0</td>\n",
       "      <td>0.9968</td>\n",
       "      <td>3.20</td>\n",
       "      <td>0.68</td>\n",
       "      <td>9.8</td>\n",
       "      <td>5</td>\n",
       "    </tr>\n",
       "    <tr>\n",
       "      <th>2</th>\n",
       "      <td>7.8</td>\n",
       "      <td>0.76</td>\n",
       "      <td>0.04</td>\n",
       "      <td>2.3</td>\n",
       "      <td>0.092</td>\n",
       "      <td>15.0</td>\n",
       "      <td>54.0</td>\n",
       "      <td>0.9970</td>\n",
       "      <td>3.26</td>\n",
       "      <td>0.65</td>\n",
       "      <td>9.8</td>\n",
       "      <td>5</td>\n",
       "    </tr>\n",
       "    <tr>\n",
       "      <th>3</th>\n",
       "      <td>11.2</td>\n",
       "      <td>0.28</td>\n",
       "      <td>0.56</td>\n",
       "      <td>1.9</td>\n",
       "      <td>0.075</td>\n",
       "      <td>17.0</td>\n",
       "      <td>60.0</td>\n",
       "      <td>0.9980</td>\n",
       "      <td>3.16</td>\n",
       "      <td>0.58</td>\n",
       "      <td>9.8</td>\n",
       "      <td>6</td>\n",
       "    </tr>\n",
       "    <tr>\n",
       "      <th>4</th>\n",
       "      <td>7.4</td>\n",
       "      <td>0.70</td>\n",
       "      <td>0.00</td>\n",
       "      <td>1.9</td>\n",
       "      <td>0.076</td>\n",
       "      <td>11.0</td>\n",
       "      <td>34.0</td>\n",
       "      <td>0.9978</td>\n",
       "      <td>3.51</td>\n",
       "      <td>0.56</td>\n",
       "      <td>9.4</td>\n",
       "      <td>5</td>\n",
       "    </tr>\n",
       "  </tbody>\n",
       "</table>\n",
       "</div>"
      ],
      "text/plain": [
       "   fixed acidity  volatile acidity  citric acid  residual sugar  chlorides  \\\n",
       "0            7.4              0.70         0.00             1.9      0.076   \n",
       "1            7.8              0.88         0.00             2.6      0.098   \n",
       "2            7.8              0.76         0.04             2.3      0.092   \n",
       "3           11.2              0.28         0.56             1.9      0.075   \n",
       "4            7.4              0.70         0.00             1.9      0.076   \n",
       "\n",
       "   free sulfur dioxide  total sulfur dioxide  density    pH  sulphates  \\\n",
       "0                 11.0                  34.0   0.9978  3.51       0.56   \n",
       "1                 25.0                  67.0   0.9968  3.20       0.68   \n",
       "2                 15.0                  54.0   0.9970  3.26       0.65   \n",
       "3                 17.0                  60.0   0.9980  3.16       0.58   \n",
       "4                 11.0                  34.0   0.9978  3.51       0.56   \n",
       "\n",
       "   alcohol  quality  \n",
       "0      9.4        5  \n",
       "1      9.8        5  \n",
       "2      9.8        5  \n",
       "3      9.8        6  \n",
       "4      9.4        5  "
      ]
     },
     "execution_count": 62,
     "metadata": {},
     "output_type": "execute_result"
    }
   ],
   "source": [
    "wine.head()"
   ]
  },
  {
   "cell_type": "code",
   "execution_count": 63,
   "metadata": {
    "execution": {
     "iopub.execute_input": "2020-10-05T17:04:03.993257Z",
     "iopub.status.busy": "2020-10-05T17:04:03.987067Z",
     "iopub.status.idle": "2020-10-05T17:04:03.998479Z",
     "shell.execute_reply": "2020-10-05T17:04:03.999398Z"
    },
    "papermill": {
     "duration": 0.127045,
     "end_time": "2020-10-05T17:04:03.999962",
     "exception": false,
     "start_time": "2020-10-05T17:04:03.872917",
     "status": "completed"
    },
    "tags": []
   },
   "outputs": [
    {
     "name": "stdout",
     "output_type": "stream",
     "text": [
      "<class 'pandas.core.frame.DataFrame'>\n",
      "RangeIndex: 1599 entries, 0 to 1598\n",
      "Data columns (total 12 columns):\n",
      " #   Column                Non-Null Count  Dtype  \n",
      "---  ------                --------------  -----  \n",
      " 0   fixed acidity         1599 non-null   float64\n",
      " 1   volatile acidity      1599 non-null   float64\n",
      " 2   citric acid           1599 non-null   float64\n",
      " 3   residual sugar        1599 non-null   float64\n",
      " 4   chlorides             1599 non-null   float64\n",
      " 5   free sulfur dioxide   1599 non-null   float64\n",
      " 6   total sulfur dioxide  1599 non-null   float64\n",
      " 7   density               1599 non-null   float64\n",
      " 8   pH                    1599 non-null   float64\n",
      " 9   sulphates             1599 non-null   float64\n",
      " 10  alcohol               1599 non-null   float64\n",
      " 11  quality               1599 non-null   int64  \n",
      "dtypes: float64(11), int64(1)\n",
      "memory usage: 150.0 KB\n"
     ]
    }
   ],
   "source": [
    "wine.info()"
   ]
  },
  {
   "cell_type": "code",
   "execution_count": 64,
   "metadata": {
    "execution": {
     "iopub.execute_input": "2020-10-05T17:04:04.263730Z",
     "iopub.status.busy": "2020-10-05T17:04:04.262364Z",
     "iopub.status.idle": "2020-10-05T17:04:04.327080Z",
     "shell.execute_reply": "2020-10-05T17:04:04.326308Z"
    },
    "papermill": {
     "duration": 0.202122,
     "end_time": "2020-10-05T17:04:04.327243",
     "exception": false,
     "start_time": "2020-10-05T17:04:04.125121",
     "status": "completed"
    },
    "tags": []
   },
   "outputs": [
    {
     "data": {
      "text/html": [
       "<div>\n",
       "<style scoped>\n",
       "    .dataframe tbody tr th:only-of-type {\n",
       "        vertical-align: middle;\n",
       "    }\n",
       "\n",
       "    .dataframe tbody tr th {\n",
       "        vertical-align: top;\n",
       "    }\n",
       "\n",
       "    .dataframe thead th {\n",
       "        text-align: right;\n",
       "    }\n",
       "</style>\n",
       "<table border=\"1\" class=\"dataframe\">\n",
       "  <thead>\n",
       "    <tr style=\"text-align: right;\">\n",
       "      <th></th>\n",
       "      <th>fixed acidity</th>\n",
       "      <th>volatile acidity</th>\n",
       "      <th>citric acid</th>\n",
       "      <th>residual sugar</th>\n",
       "      <th>chlorides</th>\n",
       "      <th>free sulfur dioxide</th>\n",
       "      <th>total sulfur dioxide</th>\n",
       "      <th>density</th>\n",
       "      <th>pH</th>\n",
       "      <th>sulphates</th>\n",
       "      <th>alcohol</th>\n",
       "      <th>quality</th>\n",
       "    </tr>\n",
       "  </thead>\n",
       "  <tbody>\n",
       "    <tr>\n",
       "      <th>count</th>\n",
       "      <td>1599.000000</td>\n",
       "      <td>1599.000000</td>\n",
       "      <td>1599.000000</td>\n",
       "      <td>1599.000000</td>\n",
       "      <td>1599.000000</td>\n",
       "      <td>1599.000000</td>\n",
       "      <td>1599.000000</td>\n",
       "      <td>1599.000000</td>\n",
       "      <td>1599.000000</td>\n",
       "      <td>1599.000000</td>\n",
       "      <td>1599.000000</td>\n",
       "      <td>1599.000000</td>\n",
       "    </tr>\n",
       "    <tr>\n",
       "      <th>mean</th>\n",
       "      <td>8.319637</td>\n",
       "      <td>0.527821</td>\n",
       "      <td>0.270976</td>\n",
       "      <td>2.538806</td>\n",
       "      <td>0.087467</td>\n",
       "      <td>15.874922</td>\n",
       "      <td>46.467792</td>\n",
       "      <td>0.996747</td>\n",
       "      <td>3.311113</td>\n",
       "      <td>0.658149</td>\n",
       "      <td>10.422983</td>\n",
       "      <td>5.636023</td>\n",
       "    </tr>\n",
       "    <tr>\n",
       "      <th>std</th>\n",
       "      <td>1.741096</td>\n",
       "      <td>0.179060</td>\n",
       "      <td>0.194801</td>\n",
       "      <td>1.409928</td>\n",
       "      <td>0.047065</td>\n",
       "      <td>10.460157</td>\n",
       "      <td>32.895324</td>\n",
       "      <td>0.001887</td>\n",
       "      <td>0.154386</td>\n",
       "      <td>0.169507</td>\n",
       "      <td>1.065668</td>\n",
       "      <td>0.807569</td>\n",
       "    </tr>\n",
       "    <tr>\n",
       "      <th>min</th>\n",
       "      <td>4.600000</td>\n",
       "      <td>0.120000</td>\n",
       "      <td>0.000000</td>\n",
       "      <td>0.900000</td>\n",
       "      <td>0.012000</td>\n",
       "      <td>1.000000</td>\n",
       "      <td>6.000000</td>\n",
       "      <td>0.990070</td>\n",
       "      <td>2.740000</td>\n",
       "      <td>0.330000</td>\n",
       "      <td>8.400000</td>\n",
       "      <td>3.000000</td>\n",
       "    </tr>\n",
       "    <tr>\n",
       "      <th>25%</th>\n",
       "      <td>7.100000</td>\n",
       "      <td>0.390000</td>\n",
       "      <td>0.090000</td>\n",
       "      <td>1.900000</td>\n",
       "      <td>0.070000</td>\n",
       "      <td>7.000000</td>\n",
       "      <td>22.000000</td>\n",
       "      <td>0.995600</td>\n",
       "      <td>3.210000</td>\n",
       "      <td>0.550000</td>\n",
       "      <td>9.500000</td>\n",
       "      <td>5.000000</td>\n",
       "    </tr>\n",
       "    <tr>\n",
       "      <th>50%</th>\n",
       "      <td>7.900000</td>\n",
       "      <td>0.520000</td>\n",
       "      <td>0.260000</td>\n",
       "      <td>2.200000</td>\n",
       "      <td>0.079000</td>\n",
       "      <td>14.000000</td>\n",
       "      <td>38.000000</td>\n",
       "      <td>0.996750</td>\n",
       "      <td>3.310000</td>\n",
       "      <td>0.620000</td>\n",
       "      <td>10.200000</td>\n",
       "      <td>6.000000</td>\n",
       "    </tr>\n",
       "    <tr>\n",
       "      <th>75%</th>\n",
       "      <td>9.200000</td>\n",
       "      <td>0.640000</td>\n",
       "      <td>0.420000</td>\n",
       "      <td>2.600000</td>\n",
       "      <td>0.090000</td>\n",
       "      <td>21.000000</td>\n",
       "      <td>62.000000</td>\n",
       "      <td>0.997835</td>\n",
       "      <td>3.400000</td>\n",
       "      <td>0.730000</td>\n",
       "      <td>11.100000</td>\n",
       "      <td>6.000000</td>\n",
       "    </tr>\n",
       "    <tr>\n",
       "      <th>max</th>\n",
       "      <td>15.900000</td>\n",
       "      <td>1.580000</td>\n",
       "      <td>1.000000</td>\n",
       "      <td>15.500000</td>\n",
       "      <td>0.611000</td>\n",
       "      <td>72.000000</td>\n",
       "      <td>289.000000</td>\n",
       "      <td>1.003690</td>\n",
       "      <td>4.010000</td>\n",
       "      <td>2.000000</td>\n",
       "      <td>14.900000</td>\n",
       "      <td>8.000000</td>\n",
       "    </tr>\n",
       "  </tbody>\n",
       "</table>\n",
       "</div>"
      ],
      "text/plain": [
       "       fixed acidity  volatile acidity  citric acid  residual sugar  \\\n",
       "count    1599.000000       1599.000000  1599.000000     1599.000000   \n",
       "mean        8.319637          0.527821     0.270976        2.538806   \n",
       "std         1.741096          0.179060     0.194801        1.409928   \n",
       "min         4.600000          0.120000     0.000000        0.900000   \n",
       "25%         7.100000          0.390000     0.090000        1.900000   \n",
       "50%         7.900000          0.520000     0.260000        2.200000   \n",
       "75%         9.200000          0.640000     0.420000        2.600000   \n",
       "max        15.900000          1.580000     1.000000       15.500000   \n",
       "\n",
       "         chlorides  free sulfur dioxide  total sulfur dioxide      density  \\\n",
       "count  1599.000000          1599.000000           1599.000000  1599.000000   \n",
       "mean      0.087467            15.874922             46.467792     0.996747   \n",
       "std       0.047065            10.460157             32.895324     0.001887   \n",
       "min       0.012000             1.000000              6.000000     0.990070   \n",
       "25%       0.070000             7.000000             22.000000     0.995600   \n",
       "50%       0.079000            14.000000             38.000000     0.996750   \n",
       "75%       0.090000            21.000000             62.000000     0.997835   \n",
       "max       0.611000            72.000000            289.000000     1.003690   \n",
       "\n",
       "                pH    sulphates      alcohol      quality  \n",
       "count  1599.000000  1599.000000  1599.000000  1599.000000  \n",
       "mean      3.311113     0.658149    10.422983     5.636023  \n",
       "std       0.154386     0.169507     1.065668     0.807569  \n",
       "min       2.740000     0.330000     8.400000     3.000000  \n",
       "25%       3.210000     0.550000     9.500000     5.000000  \n",
       "50%       3.310000     0.620000    10.200000     6.000000  \n",
       "75%       3.400000     0.730000    11.100000     6.000000  \n",
       "max       4.010000     2.000000    14.900000     8.000000  "
      ]
     },
     "execution_count": 64,
     "metadata": {},
     "output_type": "execute_result"
    }
   ],
   "source": [
    "wine.describe()"
   ]
  },
  {
   "cell_type": "code",
   "execution_count": 65,
   "metadata": {
    "execution": {
     "iopub.execute_input": "2020-10-05T17:04:04.534885Z",
     "iopub.status.busy": "2020-10-05T17:04:04.533480Z",
     "iopub.status.idle": "2020-10-05T17:04:04.538505Z",
     "shell.execute_reply": "2020-10-05T17:04:04.539275Z"
    },
    "papermill": {
     "duration": 0.11253,
     "end_time": "2020-10-05T17:04:04.539465",
     "exception": false,
     "start_time": "2020-10-05T17:04:04.426935",
     "status": "completed"
    },
    "tags": []
   },
   "outputs": [
    {
     "data": {
      "text/plain": [
       "(1599, 12)"
      ]
     },
     "execution_count": 65,
     "metadata": {},
     "output_type": "execute_result"
    }
   ],
   "source": [
    "wine.shape"
   ]
  },
  {
   "cell_type": "markdown",
   "metadata": {
    "papermill": {
     "duration": 0.104929,
     "end_time": "2020-10-05T17:04:04.752726",
     "exception": false,
     "start_time": "2020-10-05T17:04:04.647797",
     "status": "completed"
    },
    "tags": []
   },
   "source": [
    "## Quality Check "
   ]
  },
  {
   "cell_type": "code",
   "execution_count": 66,
   "metadata": {
    "execution": {
     "iopub.execute_input": "2020-10-05T17:04:04.967184Z",
     "iopub.status.busy": "2020-10-05T17:04:04.966190Z",
     "iopub.status.idle": "2020-10-05T17:04:04.999042Z",
     "shell.execute_reply": "2020-10-05T17:04:04.998260Z"
    },
    "papermill": {
     "duration": 0.143542,
     "end_time": "2020-10-05T17:04:04.999181",
     "exception": false,
     "start_time": "2020-10-05T17:04:04.855639",
     "status": "completed"
    },
    "tags": []
   },
   "outputs": [
    {
     "data": {
      "text/plain": [
       "fixed acidity           0.0\n",
       "volatile acidity        0.0\n",
       "citric acid             0.0\n",
       "residual sugar          0.0\n",
       "chlorides               0.0\n",
       "free sulfur dioxide     0.0\n",
       "total sulfur dioxide    0.0\n",
       "density                 0.0\n",
       "pH                      0.0\n",
       "sulphates               0.0\n",
       "alcohol                 0.0\n",
       "quality                 0.0\n",
       "dtype: float64"
      ]
     },
     "execution_count": 66,
     "metadata": {},
     "output_type": "execute_result"
    }
   ],
   "source": [
    "round(100*(wine.isnull().sum()/len(wine)),2).sort_values(ascending=False)"
   ]
  },
  {
   "cell_type": "code",
   "execution_count": 67,
   "metadata": {
    "execution": {
     "iopub.execute_input": "2020-10-05T17:04:05.223701Z",
     "iopub.status.busy": "2020-10-05T17:04:05.219203Z",
     "iopub.status.idle": "2020-10-05T17:04:05.227866Z",
     "shell.execute_reply": "2020-10-05T17:04:05.228607Z"
    },
    "papermill": {
     "duration": 0.123137,
     "end_time": "2020-10-05T17:04:05.228775",
     "exception": false,
     "start_time": "2020-10-05T17:04:05.105638",
     "status": "completed"
    },
    "tags": []
   },
   "outputs": [
    {
     "data": {
      "text/plain": [
       "0       0.0\n",
       "1074    0.0\n",
       "1072    0.0\n",
       "1071    0.0\n",
       "1070    0.0\n",
       "       ... \n",
       "530     0.0\n",
       "529     0.0\n",
       "528     0.0\n",
       "527     0.0\n",
       "1598    0.0\n",
       "Length: 1599, dtype: float64"
      ]
     },
     "execution_count": 67,
     "metadata": {},
     "output_type": "execute_result"
    }
   ],
   "source": [
    "round(100*(wine.isnull().sum(axis=1)/len(wine)),2).sort_values(ascending=False)"
   ]
  },
  {
   "cell_type": "markdown",
   "metadata": {
    "papermill": {
     "duration": 0.102047,
     "end_time": "2020-10-05T17:04:05.441691",
     "exception": false,
     "start_time": "2020-10-05T17:04:05.339644",
     "status": "completed"
    },
    "tags": []
   },
   "source": [
    "## **No missing / Null value in either rows or columns**"
   ]
  },
  {
   "cell_type": "code",
   "execution_count": 68,
   "metadata": {
    "execution": {
     "iopub.execute_input": "2020-10-05T17:04:05.654561Z",
     "iopub.status.busy": "2020-10-05T17:04:05.653089Z",
     "iopub.status.idle": "2020-10-05T17:04:05.667477Z",
     "shell.execute_reply": "2020-10-05T17:04:05.666687Z"
    },
    "papermill": {
     "duration": 0.126482,
     "end_time": "2020-10-05T17:04:05.667632",
     "exception": false,
     "start_time": "2020-10-05T17:04:05.541150",
     "status": "completed"
    },
    "tags": []
   },
   "outputs": [],
   "source": [
    "dub_wine=wine.copy()\n",
    "dub_wine.drop_duplicates(subset=None,inplace=True)"
   ]
  },
  {
   "cell_type": "code",
   "execution_count": 69,
   "metadata": {
    "execution": {
     "iopub.execute_input": "2020-10-05T17:04:05.890739Z",
     "iopub.status.busy": "2020-10-05T17:04:05.889462Z",
     "iopub.status.idle": "2020-10-05T17:04:05.894795Z",
     "shell.execute_reply": "2020-10-05T17:04:05.893915Z"
    },
    "papermill": {
     "duration": 0.121888,
     "end_time": "2020-10-05T17:04:05.894958",
     "exception": false,
     "start_time": "2020-10-05T17:04:05.773070",
     "status": "completed"
    },
    "tags": []
   },
   "outputs": [
    {
     "data": {
      "text/plain": [
       "(1359, 12)"
      ]
     },
     "execution_count": 69,
     "metadata": {},
     "output_type": "execute_result"
    }
   ],
   "source": [
    "dub_wine.shape"
   ]
  },
  {
   "cell_type": "code",
   "execution_count": 70,
   "metadata": {
    "execution": {
     "iopub.execute_input": "2020-10-05T17:04:06.117039Z",
     "iopub.status.busy": "2020-10-05T17:04:06.116074Z",
     "iopub.status.idle": "2020-10-05T17:04:06.121261Z",
     "shell.execute_reply": "2020-10-05T17:04:06.120513Z"
    },
    "papermill": {
     "duration": 0.120516,
     "end_time": "2020-10-05T17:04:06.121392",
     "exception": false,
     "start_time": "2020-10-05T17:04:06.000876",
     "status": "completed"
    },
    "tags": []
   },
   "outputs": [
    {
     "data": {
      "text/plain": [
       "(1599, 12)"
      ]
     },
     "execution_count": 70,
     "metadata": {},
     "output_type": "execute_result"
    }
   ],
   "source": [
    "wine.shape"
   ]
  },
  {
   "cell_type": "markdown",
   "metadata": {
    "papermill": {
     "duration": 0.103936,
     "end_time": "2020-10-05T17:04:06.330371",
     "exception": false,
     "start_time": "2020-10-05T17:04:06.226435",
     "status": "completed"
    },
    "tags": []
   },
   "source": [
    "## **The shape after running the drop duplicate command is not same as the original dataframe.Hence we can conclude that there were duplicate values in the dataset.**"
   ]
  },
  {
   "cell_type": "markdown",
   "metadata": {
    "papermill": {
     "duration": 0.102296,
     "end_time": "2020-10-05T17:04:06.535467",
     "exception": false,
     "start_time": "2020-10-05T17:04:06.433171",
     "status": "completed"
    },
    "tags": []
   },
   "source": [
    "### Assign non duplicate data to original data "
   ]
  },
  {
   "cell_type": "code",
   "execution_count": 71,
   "metadata": {
    "execution": {
     "iopub.execute_input": "2020-10-05T17:04:06.755018Z",
     "iopub.status.busy": "2020-10-05T17:04:06.753271Z",
     "iopub.status.idle": "2020-10-05T17:04:06.757213Z",
     "shell.execute_reply": "2020-10-05T17:04:06.757911Z"
    },
    "papermill": {
     "duration": 0.117589,
     "end_time": "2020-10-05T17:04:06.758100",
     "exception": false,
     "start_time": "2020-10-05T17:04:06.640511",
     "status": "completed"
    },
    "tags": []
   },
   "outputs": [],
   "source": [
    "wine=dub_wine"
   ]
  },
  {
   "cell_type": "code",
   "execution_count": 72,
   "metadata": {
    "execution": {
     "iopub.execute_input": "2020-10-05T17:04:06.989100Z",
     "iopub.status.busy": "2020-10-05T17:04:06.987971Z",
     "iopub.status.idle": "2020-10-05T17:04:07.033999Z",
     "shell.execute_reply": "2020-10-05T17:04:07.033088Z"
    },
    "papermill": {
     "duration": 0.167439,
     "end_time": "2020-10-05T17:04:07.034186",
     "exception": false,
     "start_time": "2020-10-05T17:04:06.866747",
     "status": "completed"
    },
    "tags": []
   },
   "outputs": [
    {
     "name": "stdout",
     "output_type": "stream",
     "text": [
      "fixed acidity\n",
      "7.2     49\n",
      "7.8     48\n",
      "7.1     46\n",
      "7.0     44\n",
      "7.5     42\n",
      "        ..\n",
      "13.8     1\n",
      "13.4     1\n",
      "4.7      1\n",
      "15.0     1\n",
      "5.5      1\n",
      "Name: count, Length: 96, dtype: int64 \n",
      "\n",
      "\n",
      "\n",
      "volatile acidity\n",
      "0.500    37\n",
      "0.580    36\n",
      "0.400    35\n",
      "0.600    34\n",
      "0.430    33\n",
      "         ..\n",
      "1.185     1\n",
      "1.240     1\n",
      "0.845     1\n",
      "0.365     1\n",
      "1.090     1\n",
      "Name: count, Length: 143, dtype: int64 \n",
      "\n",
      "\n",
      "\n",
      "citric acid\n",
      "0.00    118\n",
      "0.49     59\n",
      "0.24     41\n",
      "0.02     38\n",
      "0.08     32\n",
      "       ... \n",
      "0.72      1\n",
      "0.62      1\n",
      "0.71      1\n",
      "0.79      1\n",
      "0.78      1\n",
      "Name: count, Length: 80, dtype: int64 \n",
      "\n",
      "\n",
      "\n",
      "residual sugar\n",
      "2.00     133\n",
      "2.20     110\n",
      "1.80     108\n",
      "2.10     104\n",
      "1.90      97\n",
      "        ... \n",
      "2.25       1\n",
      "2.95       1\n",
      "2.85       1\n",
      "3.45       1\n",
      "13.90      1\n",
      "Name: count, Length: 91, dtype: int64 \n",
      "\n",
      "\n",
      "\n",
      "chlorides\n",
      "0.080    50\n",
      "0.078    44\n",
      "0.074    43\n",
      "0.084    40\n",
      "0.076    39\n",
      "         ..\n",
      "0.360     1\n",
      "0.148     1\n",
      "0.143     1\n",
      "0.222     1\n",
      "0.230     1\n",
      "Name: count, Length: 153, dtype: int64 \n",
      "\n",
      "\n",
      "\n",
      "free sulfur dioxide\n",
      "6.0     121\n",
      "5.0      88\n",
      "15.0     65\n",
      "12.0     64\n",
      "10.0     63\n",
      "7.0      61\n",
      "9.0      55\n",
      "16.0     53\n",
      "17.0     50\n",
      "11.0     49\n",
      "13.0     48\n",
      "8.0      47\n",
      "14.0     41\n",
      "3.0      41\n",
      "18.0     40\n",
      "21.0     36\n",
      "4.0      34\n",
      "19.0     34\n",
      "26.0     29\n",
      "23.0     28\n",
      "24.0     27\n",
      "20.0     26\n",
      "27.0     24\n",
      "25.0     21\n",
      "28.0     20\n",
      "22.0     19\n",
      "29.0     19\n",
      "32.0     19\n",
      "34.0     17\n",
      "35.0     14\n",
      "31.0     14\n",
      "30.0     13\n",
      "33.0     10\n",
      "36.0      9\n",
      "38.0      7\n",
      "41.0      5\n",
      "40.0      5\n",
      "39.0      4\n",
      "37.0      3\n",
      "42.0      3\n",
      "48.0      3\n",
      "52.0      3\n",
      "51.0      3\n",
      "45.0      3\n",
      "43.0      3\n",
      "37.5      2\n",
      "1.0       2\n",
      "50.0      2\n",
      "47.0      1\n",
      "54.0      1\n",
      "46.0      1\n",
      "68.0      1\n",
      "2.0       1\n",
      "5.5       1\n",
      "53.0      1\n",
      "40.5      1\n",
      "57.0      1\n",
      "72.0      1\n",
      "55.0      1\n",
      "66.0      1\n",
      "Name: count, dtype: int64 \n",
      "\n",
      "\n",
      "\n",
      "total sulfur dioxide\n",
      "28.0     35\n",
      "24.0     32\n",
      "14.0     30\n",
      "20.0     29\n",
      "18.0     28\n",
      "         ..\n",
      "116.0     1\n",
      "165.0     1\n",
      "128.0     1\n",
      "126.0     1\n",
      "131.0     1\n",
      "Name: count, Length: 144, dtype: int64 \n",
      "\n",
      "\n",
      "\n",
      "density\n",
      "0.99680    33\n",
      "0.99760    30\n",
      "0.99720    29\n",
      "0.99800    28\n",
      "0.99620    23\n",
      "           ..\n",
      "0.99756     1\n",
      "0.99859     1\n",
      "0.99426     1\n",
      "0.99747     1\n",
      "0.99651     1\n",
      "Name: count, Length: 436, dtype: int64 \n",
      "\n",
      "\n",
      "\n",
      "pH\n",
      "3.30    47\n",
      "3.26    45\n",
      "3.36    42\n",
      "3.38    41\n",
      "3.32    40\n",
      "        ..\n",
      "3.75     1\n",
      "3.85     1\n",
      "2.74     1\n",
      "3.70     1\n",
      "2.90     1\n",
      "Name: count, Length: 89, dtype: int64 \n",
      "\n",
      "\n",
      "\n",
      "sulphates\n",
      "0.54    58\n",
      "0.58    57\n",
      "0.60    57\n",
      "0.62    53\n",
      "0.56    52\n",
      "        ..\n",
      "1.59     1\n",
      "1.26     1\n",
      "0.33     1\n",
      "1.09     1\n",
      "1.01     1\n",
      "Name: count, Length: 96, dtype: int64 \n",
      "\n",
      "\n",
      "\n",
      "alcohol\n",
      "9.500000     111\n",
      "9.400000      91\n",
      "9.200000      65\n",
      "9.800000      63\n",
      "10.000000     61\n",
      "            ... \n",
      "8.500000       1\n",
      "10.033333      1\n",
      "13.500000      1\n",
      "13.200000      1\n",
      "10.750000      1\n",
      "Name: count, Length: 65, dtype: int64 \n",
      "\n",
      "\n",
      "\n",
      "quality\n",
      "5    577\n",
      "6    535\n",
      "7    167\n",
      "4     53\n",
      "8     17\n",
      "3     10\n",
      "Name: count, dtype: int64 \n",
      "\n",
      "\n",
      "\n"
     ]
    }
   ],
   "source": [
    "for col in wine:\n",
    "    print(wine[col].value_counts(ascending=False), '\\n\\n\\n')"
   ]
  },
  {
   "cell_type": "markdown",
   "metadata": {
    "papermill": {
     "duration": 0.103137,
     "end_time": "2020-10-05T17:04:07.243520",
     "exception": false,
     "start_time": "2020-10-05T17:04:07.140383",
     "status": "completed"
    },
    "tags": []
   },
   "source": [
    "## **There seems to be no Junk/Unknown values in the entire dataset**"
   ]
  },
  {
   "cell_type": "markdown",
   "metadata": {
    "papermill": {
     "duration": 0.104992,
     "end_time": "2020-10-05T17:04:07.514340",
     "exception": false,
     "start_time": "2020-10-05T17:04:07.409348",
     "status": "completed"
    },
    "tags": []
   },
   "source": [
    "# *Data Split*"
   ]
  },
  {
   "cell_type": "code",
   "execution_count": 73,
   "metadata": {
    "execution": {
     "iopub.execute_input": "2020-10-05T17:04:07.730606Z",
     "iopub.status.busy": "2020-10-05T17:04:07.729723Z",
     "iopub.status.idle": "2020-10-05T17:04:07.734577Z",
     "shell.execute_reply": "2020-10-05T17:04:07.733903Z"
    },
    "papermill": {
     "duration": 0.11639,
     "end_time": "2020-10-05T17:04:07.734706",
     "exception": false,
     "start_time": "2020-10-05T17:04:07.618316",
     "status": "completed"
    },
    "tags": []
   },
   "outputs": [
    {
     "data": {
      "text/plain": [
       "(1359, 12)"
      ]
     },
     "execution_count": 73,
     "metadata": {},
     "output_type": "execute_result"
    }
   ],
   "source": [
    "wine.shape"
   ]
  },
  {
   "cell_type": "code",
   "execution_count": 74,
   "metadata": {
    "execution": {
     "iopub.execute_input": "2020-10-05T17:04:07.961597Z",
     "iopub.status.busy": "2020-10-05T17:04:07.960841Z",
     "iopub.status.idle": "2020-10-05T17:04:07.972732Z",
     "shell.execute_reply": "2020-10-05T17:04:07.971851Z"
    },
    "papermill": {
     "duration": 0.128065,
     "end_time": "2020-10-05T17:04:07.972882",
     "exception": false,
     "start_time": "2020-10-05T17:04:07.844817",
     "status": "completed"
    },
    "tags": []
   },
   "outputs": [
    {
     "name": "stdout",
     "output_type": "stream",
     "text": [
      "<class 'pandas.core.frame.DataFrame'>\n",
      "Index: 1359 entries, 0 to 1598\n",
      "Data columns (total 12 columns):\n",
      " #   Column                Non-Null Count  Dtype  \n",
      "---  ------                --------------  -----  \n",
      " 0   fixed acidity         1359 non-null   float64\n",
      " 1   volatile acidity      1359 non-null   float64\n",
      " 2   citric acid           1359 non-null   float64\n",
      " 3   residual sugar        1359 non-null   float64\n",
      " 4   chlorides             1359 non-null   float64\n",
      " 5   free sulfur dioxide   1359 non-null   float64\n",
      " 6   total sulfur dioxide  1359 non-null   float64\n",
      " 7   density               1359 non-null   float64\n",
      " 8   pH                    1359 non-null   float64\n",
      " 9   sulphates             1359 non-null   float64\n",
      " 10  alcohol               1359 non-null   float64\n",
      " 11  quality               1359 non-null   int64  \n",
      "dtypes: float64(11), int64(1)\n",
      "memory usage: 138.0 KB\n"
     ]
    }
   ],
   "source": [
    "wine.info()"
   ]
  },
  {
   "cell_type": "code",
   "execution_count": 75,
   "metadata": {
    "execution": {
     "iopub.execute_input": "2020-10-05T17:04:08.203814Z",
     "iopub.status.busy": "2020-10-05T17:04:08.202858Z",
     "iopub.status.idle": "2020-10-05T17:04:08.369575Z",
     "shell.execute_reply": "2020-10-05T17:04:08.368910Z"
    },
    "papermill": {
     "duration": 0.284829,
     "end_time": "2020-10-05T17:04:08.369720",
     "exception": false,
     "start_time": "2020-10-05T17:04:08.084891",
     "status": "completed"
    },
    "tags": []
   },
   "outputs": [],
   "source": [
    "from sklearn.model_selection import train_test_split\n",
    "np.random.seed(0)\n",
    "df_train,df_test=train_test_split(wine,train_size=0.7,test_size=0.3,random_state=100)"
   ]
  },
  {
   "cell_type": "code",
   "execution_count": 76,
   "metadata": {
    "execution": {
     "iopub.execute_input": "2020-10-05T17:04:08.595314Z",
     "iopub.status.busy": "2020-10-05T17:04:08.588519Z",
     "iopub.status.idle": "2020-10-05T17:04:08.600955Z",
     "shell.execute_reply": "2020-10-05T17:04:08.602044Z"
    },
    "papermill": {
     "duration": 0.126568,
     "end_time": "2020-10-05T17:04:08.602383",
     "exception": false,
     "start_time": "2020-10-05T17:04:08.475815",
     "status": "completed"
    },
    "tags": []
   },
   "outputs": [
    {
     "name": "stdout",
     "output_type": "stream",
     "text": [
      "<class 'pandas.core.frame.DataFrame'>\n",
      "Index: 951 entries, 31 to 926\n",
      "Data columns (total 12 columns):\n",
      " #   Column                Non-Null Count  Dtype  \n",
      "---  ------                --------------  -----  \n",
      " 0   fixed acidity         951 non-null    float64\n",
      " 1   volatile acidity      951 non-null    float64\n",
      " 2   citric acid           951 non-null    float64\n",
      " 3   residual sugar        951 non-null    float64\n",
      " 4   chlorides             951 non-null    float64\n",
      " 5   free sulfur dioxide   951 non-null    float64\n",
      " 6   total sulfur dioxide  951 non-null    float64\n",
      " 7   density               951 non-null    float64\n",
      " 8   pH                    951 non-null    float64\n",
      " 9   sulphates             951 non-null    float64\n",
      " 10  alcohol               951 non-null    float64\n",
      " 11  quality               951 non-null    int64  \n",
      "dtypes: float64(11), int64(1)\n",
      "memory usage: 96.6 KB\n"
     ]
    }
   ],
   "source": [
    "df_train.info()"
   ]
  },
  {
   "cell_type": "code",
   "execution_count": 77,
   "metadata": {
    "execution": {
     "iopub.execute_input": "2020-10-05T17:04:08.826961Z",
     "iopub.status.busy": "2020-10-05T17:04:08.826097Z",
     "iopub.status.idle": "2020-10-05T17:04:08.830973Z",
     "shell.execute_reply": "2020-10-05T17:04:08.830099Z"
    },
    "papermill": {
     "duration": 0.117331,
     "end_time": "2020-10-05T17:04:08.831133",
     "exception": false,
     "start_time": "2020-10-05T17:04:08.713802",
     "status": "completed"
    },
    "tags": []
   },
   "outputs": [
    {
     "data": {
      "text/plain": [
       "(951, 12)"
      ]
     },
     "execution_count": 77,
     "metadata": {},
     "output_type": "execute_result"
    }
   ],
   "source": [
    "df_train.shape"
   ]
  },
  {
   "cell_type": "code",
   "execution_count": 78,
   "metadata": {
    "execution": {
     "iopub.execute_input": "2020-10-05T17:04:09.063744Z",
     "iopub.status.busy": "2020-10-05T17:04:09.062668Z",
     "iopub.status.idle": "2020-10-05T17:04:09.068014Z",
     "shell.execute_reply": "2020-10-05T17:04:09.067275Z"
    },
    "papermill": {
     "duration": 0.12907,
     "end_time": "2020-10-05T17:04:09.068168",
     "exception": false,
     "start_time": "2020-10-05T17:04:08.939098",
     "status": "completed"
    },
    "tags": []
   },
   "outputs": [
    {
     "name": "stdout",
     "output_type": "stream",
     "text": [
      "<class 'pandas.core.frame.DataFrame'>\n",
      "Index: 408 entries, 1573 to 677\n",
      "Data columns (total 12 columns):\n",
      " #   Column                Non-Null Count  Dtype  \n",
      "---  ------                --------------  -----  \n",
      " 0   fixed acidity         408 non-null    float64\n",
      " 1   volatile acidity      408 non-null    float64\n",
      " 2   citric acid           408 non-null    float64\n",
      " 3   residual sugar        408 non-null    float64\n",
      " 4   chlorides             408 non-null    float64\n",
      " 5   free sulfur dioxide   408 non-null    float64\n",
      " 6   total sulfur dioxide  408 non-null    float64\n",
      " 7   density               408 non-null    float64\n",
      " 8   pH                    408 non-null    float64\n",
      " 9   sulphates             408 non-null    float64\n",
      " 10  alcohol               408 non-null    float64\n",
      " 11  quality               408 non-null    int64  \n",
      "dtypes: float64(11), int64(1)\n",
      "memory usage: 41.4 KB\n"
     ]
    }
   ],
   "source": [
    "df_test.info()"
   ]
  },
  {
   "cell_type": "code",
   "execution_count": 79,
   "metadata": {
    "execution": {
     "iopub.execute_input": "2020-10-05T17:04:09.293208Z",
     "iopub.status.busy": "2020-10-05T17:04:09.292370Z",
     "iopub.status.idle": "2020-10-05T17:04:09.297544Z",
     "shell.execute_reply": "2020-10-05T17:04:09.296920Z"
    },
    "papermill": {
     "duration": 0.119045,
     "end_time": "2020-10-05T17:04:09.297693",
     "exception": false,
     "start_time": "2020-10-05T17:04:09.178648",
     "status": "completed"
    },
    "tags": []
   },
   "outputs": [
    {
     "data": {
      "text/plain": [
       "(951, 12)"
      ]
     },
     "execution_count": 79,
     "metadata": {},
     "output_type": "execute_result"
    }
   ],
   "source": [
    "df_train.shape"
   ]
  },
  {
   "cell_type": "markdown",
   "metadata": {
    "papermill": {
     "duration": 0.10662,
     "end_time": "2020-10-05T17:04:09.513698",
     "exception": false,
     "start_time": "2020-10-05T17:04:09.407078",
     "status": "completed"
    },
    "tags": []
   },
   "source": [
    "# **EDA**"
   ]
  },
  {
   "cell_type": "code",
   "execution_count": 80,
   "metadata": {
    "execution": {
     "iopub.execute_input": "2020-10-05T17:04:09.750510Z",
     "iopub.status.busy": "2020-10-05T17:04:09.749415Z",
     "iopub.status.idle": "2020-10-05T17:04:09.754639Z",
     "shell.execute_reply": "2020-10-05T17:04:09.753405Z"
    },
    "papermill": {
     "duration": 0.133728,
     "end_time": "2020-10-05T17:04:09.754869",
     "exception": false,
     "start_time": "2020-10-05T17:04:09.621141",
     "status": "completed"
    },
    "tags": []
   },
   "outputs": [
    {
     "name": "stdout",
     "output_type": "stream",
     "text": [
      "<class 'pandas.core.frame.DataFrame'>\n",
      "Index: 951 entries, 31 to 926\n",
      "Data columns (total 12 columns):\n",
      " #   Column                Non-Null Count  Dtype  \n",
      "---  ------                --------------  -----  \n",
      " 0   fixed acidity         951 non-null    float64\n",
      " 1   volatile acidity      951 non-null    float64\n",
      " 2   citric acid           951 non-null    float64\n",
      " 3   residual sugar        951 non-null    float64\n",
      " 4   chlorides             951 non-null    float64\n",
      " 5   free sulfur dioxide   951 non-null    float64\n",
      " 6   total sulfur dioxide  951 non-null    float64\n",
      " 7   density               951 non-null    float64\n",
      " 8   pH                    951 non-null    float64\n",
      " 9   sulphates             951 non-null    float64\n",
      " 10  alcohol               951 non-null    float64\n",
      " 11  quality               951 non-null    int64  \n",
      "dtypes: float64(11), int64(1)\n",
      "memory usage: 96.6 KB\n"
     ]
    }
   ],
   "source": [
    "df_train.info()"
   ]
  },
  {
   "cell_type": "code",
   "execution_count": 81,
   "metadata": {
    "execution": {
     "iopub.execute_input": "2020-10-05T17:04:09.979949Z",
     "iopub.status.busy": "2020-10-05T17:04:09.979170Z",
     "iopub.status.idle": "2020-10-05T17:04:09.985860Z",
     "shell.execute_reply": "2020-10-05T17:04:09.986405Z"
    },
    "papermill": {
     "duration": 0.123203,
     "end_time": "2020-10-05T17:04:09.986589",
     "exception": false,
     "start_time": "2020-10-05T17:04:09.863386",
     "status": "completed"
    },
    "tags": []
   },
   "outputs": [
    {
     "data": {
      "text/plain": [
       "Index(['fixed acidity', 'volatile acidity', 'citric acid', 'residual sugar',\n",
       "       'chlorides', 'free sulfur dioxide', 'total sulfur dioxide', 'density',\n",
       "       'pH', 'sulphates', 'alcohol', 'quality'],\n",
       "      dtype='object')"
      ]
     },
     "execution_count": 81,
     "metadata": {},
     "output_type": "execute_result"
    }
   ],
   "source": [
    "df_train.columns"
   ]
  },
  {
   "cell_type": "code",
   "execution_count": null,
   "metadata": {
    "execution": {
     "iopub.execute_input": "2020-10-05T17:04:10.225162Z",
     "iopub.status.busy": "2020-10-05T17:04:10.224384Z",
     "iopub.status.idle": "2020-10-05T17:05:05.112928Z",
     "shell.execute_reply": "2020-10-05T17:05:05.113629Z"
    },
    "papermill": {
     "duration": 55.015798,
     "end_time": "2020-10-05T17:05:05.113815",
     "exception": false,
     "start_time": "2020-10-05T17:04:10.098017",
     "status": "completed"
    },
    "tags": []
   },
   "outputs": [],
   "source": [
    "sns.pairplot(df_train) \n",
    "plt.show()"
   ]
  },
  {
   "cell_type": "markdown",
   "metadata": {
    "papermill": {
     "duration": 0.179987,
     "end_time": "2020-10-05T17:05:05.469366",
     "exception": false,
     "start_time": "2020-10-05T17:05:05.289379",
     "status": "completed"
    },
    "tags": []
   },
   "source": [
    "## Correlation Matrix"
   ]
  },
  {
   "cell_type": "code",
   "execution_count": 25,
   "metadata": {
    "execution": {
     "iopub.execute_input": "2020-10-05T17:05:05.789940Z",
     "iopub.status.busy": "2020-10-05T17:05:05.789091Z",
     "iopub.status.idle": "2020-10-05T17:05:06.825830Z",
     "shell.execute_reply": "2020-10-05T17:05:06.824894Z"
    },
    "papermill": {
     "duration": 1.202074,
     "end_time": "2020-10-05T17:05:06.825999",
     "exception": false,
     "start_time": "2020-10-05T17:05:05.623925",
     "status": "completed"
    },
    "tags": []
   },
   "outputs": [
    {
     "data": {
      "image/png": "[encoded data removed]",
      "text/plain": [
       "<Figure size 1440x1800 with 2 Axes>"
      ]
     },
     "metadata": {
      "needs_background": "light"
     },
     "output_type": "display_data"
    }
   ],
   "source": [
    "plt.figure(figsize=(20,25))\n",
    "sns.heatmap(wine.corr(), annot=True,cmap='RdBu')\n",
    "plt.show()"
   ]
  },
  {
   "cell_type": "markdown",
   "metadata": {
    "papermill": {
     "duration": 0.156084,
     "end_time": "2020-10-05T17:05:07.138401",
     "exception": false,
     "start_time": "2020-10-05T17:05:06.982317",
     "status": "completed"
    },
    "tags": []
   },
   "source": [
    "## Rescaling"
   ]
  },
  {
   "cell_type": "code",
   "execution_count": 82,
   "metadata": {
    "execution": {
     "iopub.execute_input": "2020-10-05T17:05:07.463079Z",
     "iopub.status.busy": "2020-10-05T17:05:07.462167Z",
     "iopub.status.idle": "2020-10-05T17:05:07.466399Z",
     "shell.execute_reply": "2020-10-05T17:05:07.465673Z"
    },
    "papermill": {
     "duration": 0.171554,
     "end_time": "2020-10-05T17:05:07.466570",
     "exception": false,
     "start_time": "2020-10-05T17:05:07.295016",
     "status": "completed"
    },
    "tags": []
   },
   "outputs": [],
   "source": [
    "from sklearn.preprocessing import MinMaxScaler"
   ]
  },
  {
   "cell_type": "code",
   "execution_count": 83,
   "metadata": {
    "execution": {
     "iopub.execute_input": "2020-10-05T17:05:07.785392Z",
     "iopub.status.busy": "2020-10-05T17:05:07.784446Z",
     "iopub.status.idle": "2020-10-05T17:05:07.789465Z",
     "shell.execute_reply": "2020-10-05T17:05:07.788452Z"
    },
    "papermill": {
     "duration": 0.167781,
     "end_time": "2020-10-05T17:05:07.789651",
     "exception": false,
     "start_time": "2020-10-05T17:05:07.621870",
     "status": "completed"
    },
    "tags": []
   },
   "outputs": [],
   "source": [
    "scaler=MinMaxScaler()"
   ]
  },
  {
   "cell_type": "code",
   "execution_count": 84,
   "metadata": {
    "execution": {
     "iopub.execute_input": "2020-10-05T17:05:08.126062Z",
     "iopub.status.busy": "2020-10-05T17:05:08.125073Z",
     "iopub.status.idle": "2020-10-05T17:05:08.142452Z",
     "shell.execute_reply": "2020-10-05T17:05:08.141804Z"
    },
    "papermill": {
     "duration": 0.193681,
     "end_time": "2020-10-05T17:05:08.142631",
     "exception": false,
     "start_time": "2020-10-05T17:05:07.948950",
     "status": "completed"
    },
    "tags": []
   },
   "outputs": [
    {
     "data": {
      "text/html": [
       "<div>\n",
       "<style scoped>\n",
       "    .dataframe tbody tr th:only-of-type {\n",
       "        vertical-align: middle;\n",
       "    }\n",
       "\n",
       "    .dataframe tbody tr th {\n",
       "        vertical-align: top;\n",
       "    }\n",
       "\n",
       "    .dataframe thead th {\n",
       "        text-align: right;\n",
       "    }\n",
       "</style>\n",
       "<table border=\"1\" class=\"dataframe\">\n",
       "  <thead>\n",
       "    <tr style=\"text-align: right;\">\n",
       "      <th></th>\n",
       "      <th>fixed acidity</th>\n",
       "      <th>volatile acidity</th>\n",
       "      <th>citric acid</th>\n",
       "      <th>residual sugar</th>\n",
       "      <th>chlorides</th>\n",
       "      <th>free sulfur dioxide</th>\n",
       "      <th>total sulfur dioxide</th>\n",
       "      <th>density</th>\n",
       "      <th>pH</th>\n",
       "      <th>sulphates</th>\n",
       "      <th>alcohol</th>\n",
       "      <th>quality</th>\n",
       "    </tr>\n",
       "  </thead>\n",
       "  <tbody>\n",
       "    <tr>\n",
       "      <th>31</th>\n",
       "      <td>6.9</td>\n",
       "      <td>0.685</td>\n",
       "      <td>0.00</td>\n",
       "      <td>2.5</td>\n",
       "      <td>0.105</td>\n",
       "      <td>22.0</td>\n",
       "      <td>37.0</td>\n",
       "      <td>0.99660</td>\n",
       "      <td>3.46</td>\n",
       "      <td>0.57</td>\n",
       "      <td>10.6</td>\n",
       "      <td>6</td>\n",
       "    </tr>\n",
       "    <tr>\n",
       "      <th>371</th>\n",
       "      <td>7.9</td>\n",
       "      <td>0.240</td>\n",
       "      <td>0.40</td>\n",
       "      <td>1.6</td>\n",
       "      <td>0.056</td>\n",
       "      <td>11.0</td>\n",
       "      <td>25.0</td>\n",
       "      <td>0.99670</td>\n",
       "      <td>3.32</td>\n",
       "      <td>0.87</td>\n",
       "      <td>8.7</td>\n",
       "      <td>6</td>\n",
       "    </tr>\n",
       "    <tr>\n",
       "      <th>952</th>\n",
       "      <td>8.2</td>\n",
       "      <td>0.310</td>\n",
       "      <td>0.40</td>\n",
       "      <td>2.2</td>\n",
       "      <td>0.058</td>\n",
       "      <td>6.0</td>\n",
       "      <td>10.0</td>\n",
       "      <td>0.99536</td>\n",
       "      <td>3.31</td>\n",
       "      <td>0.68</td>\n",
       "      <td>11.2</td>\n",
       "      <td>7</td>\n",
       "    </tr>\n",
       "    <tr>\n",
       "      <th>1037</th>\n",
       "      <td>7.3</td>\n",
       "      <td>0.910</td>\n",
       "      <td>0.10</td>\n",
       "      <td>1.8</td>\n",
       "      <td>0.074</td>\n",
       "      <td>20.0</td>\n",
       "      <td>56.0</td>\n",
       "      <td>0.99672</td>\n",
       "      <td>3.35</td>\n",
       "      <td>0.56</td>\n",
       "      <td>9.2</td>\n",
       "      <td>5</td>\n",
       "    </tr>\n",
       "    <tr>\n",
       "      <th>1398</th>\n",
       "      <td>7.0</td>\n",
       "      <td>0.600</td>\n",
       "      <td>0.12</td>\n",
       "      <td>2.2</td>\n",
       "      <td>0.083</td>\n",
       "      <td>13.0</td>\n",
       "      <td>28.0</td>\n",
       "      <td>0.99660</td>\n",
       "      <td>3.52</td>\n",
       "      <td>0.62</td>\n",
       "      <td>10.2</td>\n",
       "      <td>7</td>\n",
       "    </tr>\n",
       "  </tbody>\n",
       "</table>\n",
       "</div>"
      ],
      "text/plain": [
       "      fixed acidity  volatile acidity  citric acid  residual sugar  chlorides  \\\n",
       "31              6.9             0.685         0.00             2.5      0.105   \n",
       "371             7.9             0.240         0.40             1.6      0.056   \n",
       "952             8.2             0.310         0.40             2.2      0.058   \n",
       "1037            7.3             0.910         0.10             1.8      0.074   \n",
       "1398            7.0             0.600         0.12             2.2      0.083   \n",
       "\n",
       "      free sulfur dioxide  total sulfur dioxide  density    pH  sulphates  \\\n",
       "31                   22.0                  37.0  0.99660  3.46       0.57   \n",
       "371                  11.0                  25.0  0.99670  3.32       0.87   \n",
       "952                   6.0                  10.0  0.99536  3.31       0.68   \n",
       "1037                 20.0                  56.0  0.99672  3.35       0.56   \n",
       "1398                 13.0                  28.0  0.99660  3.52       0.62   \n",
       "\n",
       "      alcohol  quality  \n",
       "31       10.6        6  \n",
       "371       8.7        6  \n",
       "952      11.2        7  \n",
       "1037      9.2        5  \n",
       "1398     10.2        7  "
      ]
     },
     "execution_count": 84,
     "metadata": {},
     "output_type": "execute_result"
    }
   ],
   "source": [
    "df_train.head()"
   ]
  },
  {
   "cell_type": "code",
   "execution_count": 85,
   "metadata": {
    "execution": {
     "iopub.execute_input": "2020-10-05T17:05:08.484076Z",
     "iopub.status.busy": "2020-10-05T17:05:08.482230Z",
     "iopub.status.idle": "2020-10-05T17:05:08.487918Z",
     "shell.execute_reply": "2020-10-05T17:05:08.487226Z"
    },
    "papermill": {
     "duration": 0.175028,
     "end_time": "2020-10-05T17:05:08.488076",
     "exception": false,
     "start_time": "2020-10-05T17:05:08.313048",
     "status": "completed"
    },
    "tags": []
   },
   "outputs": [
    {
     "data": {
      "text/plain": [
       "Index(['fixed acidity', 'volatile acidity', 'citric acid', 'residual sugar',\n",
       "       'chlorides', 'free sulfur dioxide', 'total sulfur dioxide', 'density',\n",
       "       'pH', 'sulphates', 'alcohol', 'quality'],\n",
       "      dtype='object')"
      ]
     },
     "execution_count": 85,
     "metadata": {},
     "output_type": "execute_result"
    }
   ],
   "source": [
    "df_train.columns"
   ]
  },
  {
   "cell_type": "code",
   "execution_count": 86,
   "metadata": {
    "execution": {
     "iopub.execute_input": "2020-10-05T17:05:08.822105Z",
     "iopub.status.busy": "2020-10-05T17:05:08.821296Z",
     "iopub.status.idle": "2020-10-05T17:05:08.837944Z",
     "shell.execute_reply": "2020-10-05T17:05:08.837308Z"
    },
    "papermill": {
     "duration": 0.185573,
     "end_time": "2020-10-05T17:05:08.838084",
     "exception": false,
     "start_time": "2020-10-05T17:05:08.652511",
     "status": "completed"
    },
    "tags": []
   },
   "outputs": [],
   "source": [
    "df_train[:]=scaler.fit_transform(df_train[:])"
   ]
  },
  {
   "cell_type": "code",
   "execution_count": 87,
   "metadata": {
    "execution": {
     "iopub.execute_input": "2020-10-05T17:05:09.191484Z",
     "iopub.status.busy": "2020-10-05T17:05:09.179611Z",
     "iopub.status.idle": "2020-10-05T17:05:09.197820Z",
     "shell.execute_reply": "2020-10-05T17:05:09.196927Z"
    },
    "papermill": {
     "duration": 0.198688,
     "end_time": "2020-10-05T17:05:09.197967",
     "exception": false,
     "start_time": "2020-10-05T17:05:08.999279",
     "status": "completed"
    },
    "tags": []
   },
   "outputs": [
    {
     "data": {
      "text/html": [
       "<div>\n",
       "<style scoped>\n",
       "    .dataframe tbody tr th:only-of-type {\n",
       "        vertical-align: middle;\n",
       "    }\n",
       "\n",
       "    .dataframe tbody tr th {\n",
       "        vertical-align: top;\n",
       "    }\n",
       "\n",
       "    .dataframe thead th {\n",
       "        text-align: right;\n",
       "    }\n",
       "</style>\n",
       "<table border=\"1\" class=\"dataframe\">\n",
       "  <thead>\n",
       "    <tr style=\"text-align: right;\">\n",
       "      <th></th>\n",
       "      <th>fixed acidity</th>\n",
       "      <th>volatile acidity</th>\n",
       "      <th>citric acid</th>\n",
       "      <th>residual sugar</th>\n",
       "      <th>chlorides</th>\n",
       "      <th>free sulfur dioxide</th>\n",
       "      <th>total sulfur dioxide</th>\n",
       "      <th>density</th>\n",
       "      <th>pH</th>\n",
       "      <th>sulphates</th>\n",
       "      <th>alcohol</th>\n",
       "      <th>quality</th>\n",
       "    </tr>\n",
       "  </thead>\n",
       "  <tbody>\n",
       "    <tr>\n",
       "      <th>31</th>\n",
       "      <td>0.196429</td>\n",
       "      <td>0.369718</td>\n",
       "      <td>0.00</td>\n",
       "      <td>0.123077</td>\n",
       "      <td>0.155259</td>\n",
       "      <td>0.313433</td>\n",
       "      <td>0.109541</td>\n",
       "      <td>0.497334</td>\n",
       "      <td>0.620690</td>\n",
       "      <td>0.143713</td>\n",
       "      <td>0.338462</td>\n",
       "      <td>0.6</td>\n",
       "    </tr>\n",
       "    <tr>\n",
       "      <th>371</th>\n",
       "      <td>0.285714</td>\n",
       "      <td>0.056338</td>\n",
       "      <td>0.40</td>\n",
       "      <td>0.053846</td>\n",
       "      <td>0.073456</td>\n",
       "      <td>0.149254</td>\n",
       "      <td>0.067138</td>\n",
       "      <td>0.504950</td>\n",
       "      <td>0.500000</td>\n",
       "      <td>0.323353</td>\n",
       "      <td>0.046154</td>\n",
       "      <td>0.6</td>\n",
       "    </tr>\n",
       "    <tr>\n",
       "      <th>952</th>\n",
       "      <td>0.312500</td>\n",
       "      <td>0.105634</td>\n",
       "      <td>0.40</td>\n",
       "      <td>0.100000</td>\n",
       "      <td>0.076795</td>\n",
       "      <td>0.074627</td>\n",
       "      <td>0.014134</td>\n",
       "      <td>0.402894</td>\n",
       "      <td>0.491379</td>\n",
       "      <td>0.209581</td>\n",
       "      <td>0.430769</td>\n",
       "      <td>0.8</td>\n",
       "    </tr>\n",
       "    <tr>\n",
       "      <th>1037</th>\n",
       "      <td>0.232143</td>\n",
       "      <td>0.528169</td>\n",
       "      <td>0.10</td>\n",
       "      <td>0.069231</td>\n",
       "      <td>0.103506</td>\n",
       "      <td>0.283582</td>\n",
       "      <td>0.176678</td>\n",
       "      <td>0.506474</td>\n",
       "      <td>0.525862</td>\n",
       "      <td>0.137725</td>\n",
       "      <td>0.123077</td>\n",
       "      <td>0.4</td>\n",
       "    </tr>\n",
       "    <tr>\n",
       "      <th>1398</th>\n",
       "      <td>0.205357</td>\n",
       "      <td>0.309859</td>\n",
       "      <td>0.12</td>\n",
       "      <td>0.100000</td>\n",
       "      <td>0.118531</td>\n",
       "      <td>0.179104</td>\n",
       "      <td>0.077739</td>\n",
       "      <td>0.497334</td>\n",
       "      <td>0.672414</td>\n",
       "      <td>0.173653</td>\n",
       "      <td>0.276923</td>\n",
       "      <td>0.8</td>\n",
       "    </tr>\n",
       "  </tbody>\n",
       "</table>\n",
       "</div>"
      ],
      "text/plain": [
       "      fixed acidity  volatile acidity  citric acid  residual sugar  chlorides  \\\n",
       "31         0.196429          0.369718         0.00        0.123077   0.155259   \n",
       "371        0.285714          0.056338         0.40        0.053846   0.073456   \n",
       "952        0.312500          0.105634         0.40        0.100000   0.076795   \n",
       "1037       0.232143          0.528169         0.10        0.069231   0.103506   \n",
       "1398       0.205357          0.309859         0.12        0.100000   0.118531   \n",
       "\n",
       "      free sulfur dioxide  total sulfur dioxide   density        pH  \\\n",
       "31               0.313433              0.109541  0.497334  0.620690   \n",
       "371              0.149254              0.067138  0.504950  0.500000   \n",
       "952              0.074627              0.014134  0.402894  0.491379   \n",
       "1037             0.283582              0.176678  0.506474  0.525862   \n",
       "1398             0.179104              0.077739  0.497334  0.672414   \n",
       "\n",
       "      sulphates   alcohol  quality  \n",
       "31     0.143713  0.338462      0.6  \n",
       "371    0.323353  0.046154      0.6  \n",
       "952    0.209581  0.430769      0.8  \n",
       "1037   0.137725  0.123077      0.4  \n",
       "1398   0.173653  0.276923      0.8  "
      ]
     },
     "execution_count": 87,
     "metadata": {},
     "output_type": "execute_result"
    }
   ],
   "source": [
    "df_train.head()"
   ]
  },
  {
   "cell_type": "code",
   "execution_count": 88,
   "metadata": {
    "execution": {
     "iopub.execute_input": "2020-10-05T17:05:09.519949Z",
     "iopub.status.busy": "2020-10-05T17:05:09.519155Z",
     "iopub.status.idle": "2020-10-05T17:05:09.522883Z",
     "shell.execute_reply": "2020-10-05T17:05:09.522129Z"
    },
    "papermill": {
     "duration": 0.166566,
     "end_time": "2020-10-05T17:05:09.523019",
     "exception": false,
     "start_time": "2020-10-05T17:05:09.356453",
     "status": "completed"
    },
    "tags": []
   },
   "outputs": [],
   "source": [
    "y_train=df_train.pop('quality')\n",
    "X_train=df_train"
   ]
  },
  {
   "cell_type": "code",
   "execution_count": 89,
   "metadata": {
    "execution": {
     "iopub.execute_input": "2020-10-05T17:05:09.857660Z",
     "iopub.status.busy": "2020-10-05T17:05:09.856220Z",
     "iopub.status.idle": "2020-10-05T17:05:10.606402Z",
     "shell.execute_reply": "2020-10-05T17:05:10.605624Z"
    },
    "papermill": {
     "duration": 0.920497,
     "end_time": "2020-10-05T17:05:10.606569",
     "exception": false,
     "start_time": "2020-10-05T17:05:09.686072",
     "status": "completed"
    },
    "tags": []
   },
   "outputs": [],
   "source": [
    "from sklearn.feature_selection import RFE\n",
    "from sklearn.linear_model import LinearRegression"
   ]
  },
  {
   "cell_type": "code",
   "execution_count": 91,
   "metadata": {
    "execution": {
     "iopub.execute_input": "2020-10-05T17:05:10.962564Z",
     "iopub.status.busy": "2020-10-05T17:05:10.961679Z",
     "iopub.status.idle": "2020-10-05T17:05:11.026019Z",
     "shell.execute_reply": "2020-10-05T17:05:11.025224Z"
    },
    "papermill": {
     "duration": 0.262434,
     "end_time": "2020-10-05T17:05:11.026180",
     "exception": false,
     "start_time": "2020-10-05T17:05:10.763746",
     "status": "completed"
    },
    "scrolled": true,
    "tags": []
   },
   "outputs": [
    {
     "data": {
      "text/html": [
       "<style>#sk-container-id-1 {color: black;background-color: white;}#sk-container-id-1 pre{padding: 0;}#sk-container-id-1 div.sk-toggleable {background-color: white;}#sk-container-id-1 label.sk-toggleable__label {cursor: pointer;display: block;width: 100%;margin-bottom: 0;padding: 0.3em;box-sizing: border-box;text-align: center;}#sk-container-id-1 label.sk-toggleable__label-arrow:before {content: \"▸\";float: left;margin-right: 0.25em;color: #696969;}#sk-container-id-1 label.sk-toggleable__label-arrow:hover:before {color: black;}#sk-container-id-1 div.sk-estimator:hover label.sk-toggleable__label-arrow:before {color: black;}#sk-container-id-1 div.sk-toggleable__content {max-height: 0;max-width: 0;overflow: hidden;text-align: left;background-color: #f0f8ff;}#sk-container-id-1 div.sk-toggleable__content pre {margin: 0.2em;color: black;border-radius: 0.25em;background-color: #f0f8ff;}#sk-container-id-1 input.sk-toggleable__control:checked~div.sk-toggleable__content {max-height: 200px;max-width: 100%;overflow: auto;}#sk-container-id-1 input.sk-toggleable__control:checked~label.sk-toggleable__label-arrow:before {content: \"▾\";}#sk-container-id-1 div.sk-estimator input.sk-toggleable__control:checked~label.sk-toggleable__label {background-color: #d4ebff;}#sk-container-id-1 div.sk-label input.sk-toggleable__control:checked~label.sk-toggleable__label {background-color: #d4ebff;}#sk-container-id-1 input.sk-hidden--visually {border: 0;clip: rect(1px 1px 1px 1px);clip: rect(1px, 1px, 1px, 1px);height: 1px;margin: -1px;overflow: hidden;padding: 0;position: absolute;width: 1px;}#sk-container-id-1 div.sk-estimator {font-family: monospace;background-color: #f0f8ff;border: 1px dotted black;border-radius: 0.25em;box-sizing: border-box;margin-bottom: 0.5em;}#sk-container-id-1 div.sk-estimator:hover {background-color: #d4ebff;}#sk-container-id-1 div.sk-parallel-item::after {content: \"\";width: 100%;border-bottom: 1px solid gray;flex-grow: 1;}#sk-container-id-1 div.sk-label:hover label.sk-toggleable__label {background-color: #d4ebff;}#sk-container-id-1 div.sk-serial::before {content: \"\";position: absolute;border-left: 1px solid gray;box-sizing: border-box;top: 0;bottom: 0;left: 50%;z-index: 0;}#sk-container-id-1 div.sk-serial {display: flex;flex-direction: column;align-items: center;background-color: white;padding-right: 0.2em;padding-left: 0.2em;position: relative;}#sk-container-id-1 div.sk-item {position: relative;z-index: 1;}#sk-container-id-1 div.sk-parallel {display: flex;align-items: stretch;justify-content: center;background-color: white;position: relative;}#sk-container-id-1 div.sk-item::before, #sk-container-id-1 div.sk-parallel-item::before {content: \"\";position: absolute;border-left: 1px solid gray;box-sizing: border-box;top: 0;bottom: 0;left: 50%;z-index: -1;}#sk-container-id-1 div.sk-parallel-item {display: flex;flex-direction: column;z-index: 1;position: relative;background-color: white;}#sk-container-id-1 div.sk-parallel-item:first-child::after {align-self: flex-end;width: 50%;}#sk-container-id-1 div.sk-parallel-item:last-child::after {align-self: flex-start;width: 50%;}#sk-container-id-1 div.sk-parallel-item:only-child::after {width: 0;}#sk-container-id-1 div.sk-dashed-wrapped {border: 1px dashed gray;margin: 0 0.4em 0.5em 0.4em;box-sizing: border-box;padding-bottom: 0.4em;background-color: white;}#sk-container-id-1 div.sk-label label {font-family: monospace;font-weight: bold;display: inline-block;line-height: 1.2em;}#sk-container-id-1 div.sk-label-container {text-align: center;}#sk-container-id-1 div.sk-container {/* jupyter's `normalize.less` sets `[hidden] { display: none; }` but bootstrap.min.css set `[hidden] { display: none !important; }` so we also need the `!important` here to be able to override the default hidden behavior on the sphinx rendered scikit-learn.org. See: https://github.com/scikit-learn/scikit-learn/issues/21755 */display: inline-block !important;position: relative;}#sk-container-id-1 div.sk-text-repr-fallback {display: none;}</style><div id=\"sk-container-id-1\" class=\"sk-top-container\"><div class=\"sk-text-repr-fallback\"><pre>RFE(estimator=LinearRegression(), n_features_to_select=9)</pre><b>In a Jupyter environment, please rerun this cell to show the HTML representation or trust the notebook. <br />On GitHub, the HTML representation is unable to render, please try loading this page with nbviewer.org.</b></div><div class=\"sk-container\" hidden><div class=\"sk-item sk-dashed-wrapped\"><div class=\"sk-label-container\"><div class=\"sk-label sk-toggleable\"><input class=\"sk-toggleable__control sk-hidden--visually\" id=\"sk-estimator-id-1\" type=\"checkbox\" ><label for=\"sk-estimator-id-1\" class=\"sk-toggleable__label sk-toggleable__label-arrow\">RFE</label><div class=\"sk-toggleable__content\"><pre>RFE(estimator=LinearRegression(), n_features_to_select=9)</pre></div></div></div><div class=\"sk-parallel\"><div class=\"sk-parallel-item\"><div class=\"sk-item\"><div class=\"sk-label-container\"><div class=\"sk-label sk-toggleable\"><input class=\"sk-toggleable__control sk-hidden--visually\" id=\"sk-estimator-id-2\" type=\"checkbox\" ><label for=\"sk-estimator-id-2\" class=\"sk-toggleable__label sk-toggleable__label-arrow\">estimator: LinearRegression</label><div class=\"sk-toggleable__content\"><pre>LinearRegression()</pre></div></div></div><div class=\"sk-serial\"><div class=\"sk-item\"><div class=\"sk-estimator sk-toggleable\"><input class=\"sk-toggleable__control sk-hidden--visually\" id=\"sk-estimator-id-3\" type=\"checkbox\" ><label for=\"sk-estimator-id-3\" class=\"sk-toggleable__label sk-toggleable__label-arrow\">LinearRegression</label><div class=\"sk-toggleable__content\"><pre>LinearRegression()</pre></div></div></div></div></div></div></div></div></div></div>"
      ],
      "text/plain": [
       "RFE(estimator=LinearRegression(), n_features_to_select=9)"
      ]
     },
     "execution_count": 91,
     "metadata": {},
     "output_type": "execute_result"
    }
   ],
   "source": [
    "from sklearn.feature_selection import RFE\n",
    "from sklearn.linear_model import LinearRegression\n",
    "\n",
    "lm = LinearRegression()\n",
    "lm.fit(X_train, y_train)\n",
    "\n",
    "rfe = RFE(estimator=lm, n_features_to_select=9)\n",
    "rfe.fit(X_train, y_train)\n",
    "\n"
   ]
  },
  {
   "cell_type": "code",
   "execution_count": 92,
   "metadata": {
    "execution": {
     "iopub.execute_input": "2020-10-05T17:05:11.364707Z",
     "iopub.status.busy": "2020-10-05T17:05:11.363159Z",
     "iopub.status.idle": "2020-10-05T17:05:11.368504Z",
     "shell.execute_reply": "2020-10-05T17:05:11.367920Z"
    },
    "papermill": {
     "duration": 0.176178,
     "end_time": "2020-10-05T17:05:11.368661",
     "exception": false,
     "start_time": "2020-10-05T17:05:11.192483",
     "status": "completed"
    },
    "tags": []
   },
   "outputs": [
    {
     "data": {
      "text/plain": [
       "[('fixed acidity', False, 3),\n",
       " ('volatile acidity', True, 1),\n",
       " ('citric acid', False, 2),\n",
       " ('residual sugar', True, 1),\n",
       " ('chlorides', True, 1),\n",
       " ('free sulfur dioxide', True, 1),\n",
       " ('total sulfur dioxide', True, 1),\n",
       " ('density', True, 1),\n",
       " ('pH', True, 1),\n",
       " ('sulphates', True, 1),\n",
       " ('alcohol', True, 1)]"
      ]
     },
     "execution_count": 92,
     "metadata": {},
     "output_type": "execute_result"
    }
   ],
   "source": [
    "list(zip(X_train.columns,rfe.support_,rfe.ranking_))"
   ]
  },
  {
   "cell_type": "code",
   "execution_count": 93,
   "metadata": {
    "execution": {
     "iopub.execute_input": "2020-10-05T17:05:11.707443Z",
     "iopub.status.busy": "2020-10-05T17:05:11.706634Z",
     "iopub.status.idle": "2020-10-05T17:05:11.711726Z",
     "shell.execute_reply": "2020-10-05T17:05:11.710875Z"
    },
    "papermill": {
     "duration": 0.178106,
     "end_time": "2020-10-05T17:05:11.711929",
     "exception": false,
     "start_time": "2020-10-05T17:05:11.533823",
     "status": "completed"
    },
    "tags": []
   },
   "outputs": [
    {
     "data": {
      "text/plain": [
       "Index(['volatile acidity', 'residual sugar', 'chlorides',\n",
       "       'free sulfur dioxide', 'total sulfur dioxide', 'density', 'pH',\n",
       "       'sulphates', 'alcohol'],\n",
       "      dtype='object')"
      ]
     },
     "execution_count": 93,
     "metadata": {},
     "output_type": "execute_result"
    }
   ],
   "source": [
    "col = X_train.columns[rfe.support_]\n",
    "col"
   ]
  },
  {
   "cell_type": "code",
   "execution_count": 94,
   "metadata": {
    "execution": {
     "iopub.execute_input": "2020-10-05T17:05:12.045285Z",
     "iopub.status.busy": "2020-10-05T17:05:12.044118Z",
     "iopub.status.idle": "2020-10-05T17:05:12.052103Z",
     "shell.execute_reply": "2020-10-05T17:05:12.051044Z"
    },
    "papermill": {
     "duration": 0.177048,
     "end_time": "2020-10-05T17:05:12.052327",
     "exception": false,
     "start_time": "2020-10-05T17:05:11.875279",
     "status": "completed"
    },
    "tags": []
   },
   "outputs": [
    {
     "data": {
      "text/plain": [
       "Index(['fixed acidity', 'citric acid'], dtype='object')"
      ]
     },
     "execution_count": 94,
     "metadata": {},
     "output_type": "execute_result"
    }
   ],
   "source": [
    "X_train.columns[~rfe.support_]"
   ]
  },
  {
   "cell_type": "code",
   "execution_count": 95,
   "metadata": {
    "execution": {
     "iopub.execute_input": "2020-10-05T17:05:12.394658Z",
     "iopub.status.busy": "2020-10-05T17:05:12.393481Z",
     "iopub.status.idle": "2020-10-05T17:05:12.397694Z",
     "shell.execute_reply": "2020-10-05T17:05:12.396989Z"
    },
    "papermill": {
     "duration": 0.181185,
     "end_time": "2020-10-05T17:05:12.397830",
     "exception": false,
     "start_time": "2020-10-05T17:05:12.216645",
     "status": "completed"
    },
    "tags": []
   },
   "outputs": [],
   "source": [
    "X_train_rfe = X_train[col]"
   ]
  },
  {
   "cell_type": "markdown",
   "metadata": {
    "papermill": {
     "duration": 0.168252,
     "end_time": "2020-10-05T17:05:12.728045",
     "exception": false,
     "start_time": "2020-10-05T17:05:12.559793",
     "status": "completed"
    },
    "tags": []
   },
   "source": [
    "# Building Linear Model"
   ]
  },
  {
   "cell_type": "markdown",
   "metadata": {
    "papermill": {
     "duration": 0.161611,
     "end_time": "2020-10-05T17:05:13.051599",
     "exception": false,
     "start_time": "2020-10-05T17:05:12.889988",
     "status": "completed"
    },
    "tags": []
   },
   "source": [
    "## Model 1"
   ]
  },
  {
   "cell_type": "markdown",
   "metadata": {
    "papermill": {
     "duration": 0.161017,
     "end_time": "2020-10-05T17:05:13.379043",
     "exception": false,
     "start_time": "2020-10-05T17:05:13.218026",
     "status": "completed"
    },
    "tags": []
   },
   "source": [
    "### VIF Check"
   ]
  },
  {
   "cell_type": "code",
   "execution_count": 96,
   "metadata": {
    "execution": {
     "iopub.execute_input": "2020-10-05T17:05:13.708286Z",
     "iopub.status.busy": "2020-10-05T17:05:13.707361Z",
     "iopub.status.idle": "2020-10-05T17:05:13.876800Z",
     "shell.execute_reply": "2020-10-05T17:05:13.875867Z"
    },
    "papermill": {
     "duration": 0.334484,
     "end_time": "2020-10-05T17:05:13.876975",
     "exception": false,
     "start_time": "2020-10-05T17:05:13.542491",
     "status": "completed"
    },
    "tags": []
   },
   "outputs": [
    {
     "data": {
      "text/html": [
       "<div>\n",
       "<style scoped>\n",
       "    .dataframe tbody tr th:only-of-type {\n",
       "        vertical-align: middle;\n",
       "    }\n",
       "\n",
       "    .dataframe tbody tr th {\n",
       "        vertical-align: top;\n",
       "    }\n",
       "\n",
       "    .dataframe thead th {\n",
       "        text-align: right;\n",
       "    }\n",
       "</style>\n",
       "<table border=\"1\" class=\"dataframe\">\n",
       "  <thead>\n",
       "    <tr style=\"text-align: right;\">\n",
       "      <th></th>\n",
       "      <th>Features</th>\n",
       "      <th>VIF</th>\n",
       "    </tr>\n",
       "  </thead>\n",
       "  <tbody>\n",
       "    <tr>\n",
       "      <th>6</th>\n",
       "      <td>pH</td>\n",
       "      <td>12.95</td>\n",
       "    </tr>\n",
       "    <tr>\n",
       "      <th>5</th>\n",
       "      <td>density</td>\n",
       "      <td>11.41</td>\n",
       "    </tr>\n",
       "    <tr>\n",
       "      <th>7</th>\n",
       "      <td>sulphates</td>\n",
       "      <td>6.36</td>\n",
       "    </tr>\n",
       "    <tr>\n",
       "      <th>0</th>\n",
       "      <td>volatile acidity</td>\n",
       "      <td>6.00</td>\n",
       "    </tr>\n",
       "    <tr>\n",
       "      <th>3</th>\n",
       "      <td>free sulfur dioxide</td>\n",
       "      <td>5.81</td>\n",
       "    </tr>\n",
       "    <tr>\n",
       "      <th>8</th>\n",
       "      <td>alcohol</td>\n",
       "      <td>5.48</td>\n",
       "    </tr>\n",
       "    <tr>\n",
       "      <th>4</th>\n",
       "      <td>total sulfur dioxide</td>\n",
       "      <td>4.90</td>\n",
       "    </tr>\n",
       "    <tr>\n",
       "      <th>2</th>\n",
       "      <td>chlorides</td>\n",
       "      <td>4.05</td>\n",
       "    </tr>\n",
       "    <tr>\n",
       "      <th>1</th>\n",
       "      <td>residual sugar</td>\n",
       "      <td>3.29</td>\n",
       "    </tr>\n",
       "  </tbody>\n",
       "</table>\n",
       "</div>"
      ],
      "text/plain": [
       "               Features    VIF\n",
       "6                    pH  12.95\n",
       "5               density  11.41\n",
       "7             sulphates   6.36\n",
       "0      volatile acidity   6.00\n",
       "3   free sulfur dioxide   5.81\n",
       "8               alcohol   5.48\n",
       "4  total sulfur dioxide   4.90\n",
       "2             chlorides   4.05\n",
       "1        residual sugar   3.29"
      ]
     },
     "execution_count": 96,
     "metadata": {},
     "output_type": "execute_result"
    }
   ],
   "source": [
    "from statsmodels.stats.outliers_influence import variance_inflation_factor\n",
    "vif = pd.DataFrame()\n",
    "vif['Features'] = X_train_rfe.columns\n",
    "vif['VIF'] = [variance_inflation_factor(X_train_rfe.values, i) for i in range(X_train_rfe.shape[1])]\n",
    "vif['VIF'] = round(vif['VIF'], 2)\n",
    "vif = vif.sort_values(by = \"VIF\", ascending = False)\n",
    "vif"
   ]
  },
  {
   "cell_type": "code",
   "execution_count": 97,
   "metadata": {
    "execution": {
     "iopub.execute_input": "2020-10-05T17:05:14.212029Z",
     "iopub.status.busy": "2020-10-05T17:05:14.211139Z",
     "iopub.status.idle": "2020-10-05T17:05:15.025059Z",
     "shell.execute_reply": "2020-10-05T17:05:15.024238Z"
    },
    "papermill": {
     "duration": 0.981728,
     "end_time": "2020-10-05T17:05:15.025219",
     "exception": false,
     "start_time": "2020-10-05T17:05:14.043491",
     "status": "completed"
    },
    "tags": []
   },
   "outputs": [],
   "source": [
    "import statsmodels.api as sm\n",
    "X_train_lm1 = sm.add_constant(X_train_rfe)\n",
    "lr1 = sm.OLS(y_train, X_train_lm1).fit()"
   ]
  },
  {
   "cell_type": "code",
   "execution_count": 98,
   "metadata": {
    "execution": {
     "iopub.execute_input": "2020-10-05T17:05:15.377972Z",
     "iopub.status.busy": "2020-10-05T17:05:15.376868Z",
     "iopub.status.idle": "2020-10-05T17:05:15.381759Z",
     "shell.execute_reply": "2020-10-05T17:05:15.380997Z"
    },
    "papermill": {
     "duration": 0.185198,
     "end_time": "2020-10-05T17:05:15.381890",
     "exception": false,
     "start_time": "2020-10-05T17:05:15.196692",
     "status": "completed"
    },
    "tags": []
   },
   "outputs": [
    {
     "data": {
      "text/plain": [
       "const                   0.511514\n",
       "volatile acidity       -0.293889\n",
       "residual sugar         -0.023075\n",
       "chlorides              -0.226907\n",
       "free sulfur dioxide     0.047656\n",
       "total sulfur dioxide   -0.170749\n",
       "density                 0.030913\n",
       "pH                     -0.103709\n",
       "sulphates               0.251518\n",
       "alcohol                 0.400770\n",
       "dtype: float64"
      ]
     },
     "execution_count": 98,
     "metadata": {},
     "output_type": "execute_result"
    }
   ],
   "source": [
    "lr1.params"
   ]
  },
  {
   "cell_type": "code",
   "execution_count": 99,
   "metadata": {
    "execution": {
     "iopub.execute_input": "2020-10-05T17:05:15.734673Z",
     "iopub.status.busy": "2020-10-05T17:05:15.732386Z",
     "iopub.status.idle": "2020-10-05T17:05:15.755568Z",
     "shell.execute_reply": "2020-10-05T17:05:15.754880Z"
    },
    "papermill": {
     "duration": 0.200534,
     "end_time": "2020-10-05T17:05:15.755705",
     "exception": false,
     "start_time": "2020-10-05T17:05:15.555171",
     "status": "completed"
    },
    "tags": []
   },
   "outputs": [
    {
     "name": "stdout",
     "output_type": "stream",
     "text": [
      "                            OLS Regression Results                            \n",
      "==============================================================================\n",
      "Dep. Variable:                quality   R-squared:                       0.363\n",
      "Model:                            OLS   Adj. R-squared:                  0.357\n",
      "Method:                 Least Squares   F-statistic:                     59.68\n",
      "Date:                Fri, 20 Oct 2023   Prob (F-statistic):           3.04e-86\n",
      "Time:                        20:24:49   Log-Likelihood:                 598.76\n",
      "No. Observations:                 951   AIC:                            -1178.\n",
      "Df Residuals:                     941   BIC:                            -1129.\n",
      "Df Model:                           9                                         \n",
      "Covariance Type:            nonrobust                                         \n",
      "========================================================================================\n",
      "                           coef    std err          t      P>|t|      [0.025      0.975]\n",
      "----------------------------------------------------------------------------------------\n",
      "const                    0.5115      0.036     14.171      0.000       0.441       0.582\n",
      "volatile acidity        -0.2939      0.036     -8.221      0.000      -0.364      -0.224\n",
      "residual sugar          -0.0231      0.049     -0.472      0.637      -0.119       0.073\n",
      "chlorides               -0.2269      0.055     -4.110      0.000      -0.335      -0.119\n",
      "free sulfur dioxide      0.0477      0.037      1.296      0.195      -0.024       0.120\n",
      "total sulfur dioxide    -0.1707      0.050     -3.403      0.001      -0.269      -0.072\n",
      "density                  0.0309      0.040      0.770      0.442      -0.048       0.110\n",
      "pH                      -0.1037      0.036     -2.842      0.005      -0.175      -0.032\n",
      "sulphates                0.2515      0.047      5.407      0.000       0.160       0.343\n",
      "alcohol                  0.4008      0.034     11.743      0.000       0.334       0.468\n",
      "==============================================================================\n",
      "Omnibus:                        8.502   Durbin-Watson:                   1.969\n",
      "Prob(Omnibus):                  0.014   Jarque-Bera (JB):               11.023\n",
      "Skew:                          -0.094   Prob(JB):                      0.00404\n",
      "Kurtosis:                       3.493   Cond. No.                         22.9\n",
      "==============================================================================\n",
      "\n",
      "Notes:\n",
      "[1] Standard Errors assume that the covariance matrix of the errors is correctly specified.\n"
     ]
    }
   ],
   "source": [
    "print(lr1.summary())"
   ]
  },
  {
   "cell_type": "markdown",
   "metadata": {
    "papermill": {
     "duration": 0.188685,
     "end_time": "2020-10-05T17:05:16.129061",
     "exception": false,
     "start_time": "2020-10-05T17:05:15.940376",
     "status": "completed"
    },
    "tags": []
   },
   "source": [
    "## Model 2"
   ]
  },
  {
   "cell_type": "code",
   "execution_count": 100,
   "metadata": {
    "execution": {
     "iopub.execute_input": "2020-10-05T17:05:16.464041Z",
     "iopub.status.busy": "2020-10-05T17:05:16.462941Z",
     "iopub.status.idle": "2020-10-05T17:05:16.466720Z",
     "shell.execute_reply": "2020-10-05T17:05:16.466094Z"
    },
    "papermill": {
     "duration": 0.172152,
     "end_time": "2020-10-05T17:05:16.466855",
     "exception": false,
     "start_time": "2020-10-05T17:05:16.294703",
     "status": "completed"
    },
    "tags": []
   },
   "outputs": [],
   "source": [
    "X_train_new = X_train_rfe.drop([\"residual sugar\"], axis = 1)"
   ]
  },
  {
   "cell_type": "markdown",
   "metadata": {
    "papermill": {
     "duration": 0.168047,
     "end_time": "2020-10-05T17:05:16.805694",
     "exception": false,
     "start_time": "2020-10-05T17:05:16.637647",
     "status": "completed"
    },
    "tags": []
   },
   "source": [
    "### VIF"
   ]
  },
  {
   "cell_type": "code",
   "execution_count": 101,
   "metadata": {
    "execution": {
     "iopub.execute_input": "2020-10-05T17:05:17.145703Z",
     "iopub.status.busy": "2020-10-05T17:05:17.144287Z",
     "iopub.status.idle": "2020-10-05T17:05:17.167890Z",
     "shell.execute_reply": "2020-10-05T17:05:17.167008Z"
    },
    "papermill": {
     "duration": 0.200569,
     "end_time": "2020-10-05T17:05:17.168038",
     "exception": false,
     "start_time": "2020-10-05T17:05:16.967469",
     "status": "completed"
    },
    "tags": []
   },
   "outputs": [
    {
     "data": {
      "text/html": [
       "<div>\n",
       "<style scoped>\n",
       "    .dataframe tbody tr th:only-of-type {\n",
       "        vertical-align: middle;\n",
       "    }\n",
       "\n",
       "    .dataframe tbody tr th {\n",
       "        vertical-align: top;\n",
       "    }\n",
       "\n",
       "    .dataframe thead th {\n",
       "        text-align: right;\n",
       "    }\n",
       "</style>\n",
       "<table border=\"1\" class=\"dataframe\">\n",
       "  <thead>\n",
       "    <tr style=\"text-align: right;\">\n",
       "      <th></th>\n",
       "      <th>Features</th>\n",
       "      <th>VIF</th>\n",
       "    </tr>\n",
       "  </thead>\n",
       "  <tbody>\n",
       "    <tr>\n",
       "      <th>5</th>\n",
       "      <td>pH</td>\n",
       "      <td>12.67</td>\n",
       "    </tr>\n",
       "    <tr>\n",
       "      <th>4</th>\n",
       "      <td>density</td>\n",
       "      <td>9.23</td>\n",
       "    </tr>\n",
       "    <tr>\n",
       "      <th>6</th>\n",
       "      <td>sulphates</td>\n",
       "      <td>6.18</td>\n",
       "    </tr>\n",
       "    <tr>\n",
       "      <th>0</th>\n",
       "      <td>volatile acidity</td>\n",
       "      <td>6.00</td>\n",
       "    </tr>\n",
       "    <tr>\n",
       "      <th>2</th>\n",
       "      <td>free sulfur dioxide</td>\n",
       "      <td>5.79</td>\n",
       "    </tr>\n",
       "    <tr>\n",
       "      <th>7</th>\n",
       "      <td>alcohol</td>\n",
       "      <td>4.91</td>\n",
       "    </tr>\n",
       "    <tr>\n",
       "      <th>3</th>\n",
       "      <td>total sulfur dioxide</td>\n",
       "      <td>4.69</td>\n",
       "    </tr>\n",
       "    <tr>\n",
       "      <th>1</th>\n",
       "      <td>chlorides</td>\n",
       "      <td>4.05</td>\n",
       "    </tr>\n",
       "  </tbody>\n",
       "</table>\n",
       "</div>"
      ],
      "text/plain": [
       "               Features    VIF\n",
       "5                    pH  12.67\n",
       "4               density   9.23\n",
       "6             sulphates   6.18\n",
       "0      volatile acidity   6.00\n",
       "2   free sulfur dioxide   5.79\n",
       "7               alcohol   4.91\n",
       "3  total sulfur dioxide   4.69\n",
       "1             chlorides   4.05"
      ]
     },
     "execution_count": 101,
     "metadata": {},
     "output_type": "execute_result"
    }
   ],
   "source": [
    "from statsmodels.stats.outliers_influence import variance_inflation_factor\n",
    "vif = pd.DataFrame()\n",
    "vif['Features'] = X_train_new.columns\n",
    "vif['VIF'] = [variance_inflation_factor(X_train_new.values, i) for i in range(X_train_new.shape[1])]\n",
    "vif['VIF'] = round(vif['VIF'], 2)\n",
    "vif = vif.sort_values(by = \"VIF\", ascending = False)\n",
    "vif"
   ]
  },
  {
   "cell_type": "code",
   "execution_count": 102,
   "metadata": {
    "execution": {
     "iopub.execute_input": "2020-10-05T17:05:17.508618Z",
     "iopub.status.busy": "2020-10-05T17:05:17.506707Z",
     "iopub.status.idle": "2020-10-05T17:05:17.516733Z",
     "shell.execute_reply": "2020-10-05T17:05:17.517365Z"
    },
    "papermill": {
     "duration": 0.181558,
     "end_time": "2020-10-05T17:05:17.517576",
     "exception": false,
     "start_time": "2020-10-05T17:05:17.336018",
     "status": "completed"
    },
    "tags": []
   },
   "outputs": [],
   "source": [
    "X_train_lm2 = sm.add_constant(X_train_new)\n",
    "lr2 = sm.OLS(y_train, X_train_lm2).fit()"
   ]
  },
  {
   "cell_type": "code",
   "execution_count": 103,
   "metadata": {
    "execution": {
     "iopub.execute_input": "2020-10-05T17:05:17.862696Z",
     "iopub.status.busy": "2020-10-05T17:05:17.861604Z",
     "iopub.status.idle": "2020-10-05T17:05:17.868496Z",
     "shell.execute_reply": "2020-10-05T17:05:17.867714Z"
    },
    "papermill": {
     "duration": 0.182396,
     "end_time": "2020-10-05T17:05:17.868656",
     "exception": false,
     "start_time": "2020-10-05T17:05:17.686260",
     "status": "completed"
    },
    "tags": []
   },
   "outputs": [
    {
     "data": {
      "text/plain": [
       "const                   0.515094\n",
       "volatile acidity       -0.294184\n",
       "chlorides              -0.228533\n",
       "free sulfur dioxide     0.048307\n",
       "total sulfur dioxide   -0.176385\n",
       "density                 0.022517\n",
       "pH                     -0.103767\n",
       "sulphates               0.254962\n",
       "alcohol                 0.394663\n",
       "dtype: float64"
      ]
     },
     "execution_count": 103,
     "metadata": {},
     "output_type": "execute_result"
    }
   ],
   "source": [
    "lr2.params"
   ]
  },
  {
   "cell_type": "code",
   "execution_count": 104,
   "metadata": {
    "execution": {
     "iopub.execute_input": "2020-10-05T17:05:18.207876Z",
     "iopub.status.busy": "2020-10-05T17:05:18.206102Z",
     "iopub.status.idle": "2020-10-05T17:05:18.223781Z",
     "shell.execute_reply": "2020-10-05T17:05:18.222792Z"
    },
    "papermill": {
     "duration": 0.190472,
     "end_time": "2020-10-05T17:05:18.223953",
     "exception": false,
     "start_time": "2020-10-05T17:05:18.033481",
     "status": "completed"
    },
    "tags": []
   },
   "outputs": [
    {
     "name": "stdout",
     "output_type": "stream",
     "text": [
      "                            OLS Regression Results                            \n",
      "==============================================================================\n",
      "Dep. Variable:                quality   R-squared:                       0.363\n",
      "Model:                            OLS   Adj. R-squared:                  0.358\n",
      "Method:                 Least Squares   F-statistic:                     67.17\n",
      "Date:                Fri, 20 Oct 2023   Prob (F-statistic):           4.01e-87\n",
      "Time:                        20:25:01   Log-Likelihood:                 598.65\n",
      "No. Observations:                 951   AIC:                            -1179.\n",
      "Df Residuals:                     942   BIC:                            -1136.\n",
      "Df Model:                           8                                         \n",
      "Covariance Type:            nonrobust                                         \n",
      "========================================================================================\n",
      "                           coef    std err          t      P>|t|      [0.025      0.975]\n",
      "----------------------------------------------------------------------------------------\n",
      "const                    0.5151      0.035     14.602      0.000       0.446       0.584\n",
      "volatile acidity        -0.2942      0.036     -8.234      0.000      -0.364      -0.224\n",
      "chlorides               -0.2285      0.055     -4.150      0.000      -0.337      -0.120\n",
      "free sulfur dioxide      0.0483      0.037      1.316      0.189      -0.024       0.120\n",
      "total sulfur dioxide    -0.1764      0.049     -3.621      0.000      -0.272      -0.081\n",
      "density                  0.0225      0.036      0.626      0.532      -0.048       0.093\n",
      "pH                      -0.1038      0.036     -2.845      0.005      -0.175      -0.032\n",
      "sulphates                0.2550      0.046      5.552      0.000       0.165       0.345\n",
      "alcohol                  0.3947      0.032     12.502      0.000       0.333       0.457\n",
      "==============================================================================\n",
      "Omnibus:                        9.271   Durbin-Watson:                   1.969\n",
      "Prob(Omnibus):                  0.010   Jarque-Bera (JB):               12.165\n",
      "Skew:                          -0.103   Prob(JB):                      0.00228\n",
      "Kurtosis:                       3.514   Cond. No.                         21.0\n",
      "==============================================================================\n",
      "\n",
      "Notes:\n",
      "[1] Standard Errors assume that the covariance matrix of the errors is correctly specified.\n"
     ]
    }
   ],
   "source": [
    "print(lr2.summary())"
   ]
  },
  {
   "cell_type": "markdown",
   "metadata": {
    "papermill": {
     "duration": 0.165601,
     "end_time": "2020-10-05T17:05:18.555555",
     "exception": false,
     "start_time": "2020-10-05T17:05:18.389954",
     "status": "completed"
    },
    "tags": []
   },
   "source": [
    "## Model 3"
   ]
  },
  {
   "cell_type": "code",
   "execution_count": 105,
   "metadata": {
    "execution": {
     "iopub.execute_input": "2020-10-05T17:05:18.894738Z",
     "iopub.status.busy": "2020-10-05T17:05:18.893922Z",
     "iopub.status.idle": "2020-10-05T17:05:18.897390Z",
     "shell.execute_reply": "2020-10-05T17:05:18.896754Z"
    },
    "papermill": {
     "duration": 0.176961,
     "end_time": "2020-10-05T17:05:18.897518",
     "exception": false,
     "start_time": "2020-10-05T17:05:18.720557",
     "status": "completed"
    },
    "tags": []
   },
   "outputs": [],
   "source": [
    "X_train_new = X_train_new.drop([\"density\"], axis = 1)"
   ]
  },
  {
   "cell_type": "markdown",
   "metadata": {
    "papermill": {
     "duration": 0.167244,
     "end_time": "2020-10-05T17:05:19.235869",
     "exception": false,
     "start_time": "2020-10-05T17:05:19.068625",
     "status": "completed"
    },
    "tags": []
   },
   "source": [
    "### VIF"
   ]
  },
  {
   "cell_type": "code",
   "execution_count": 106,
   "metadata": {
    "execution": {
     "iopub.execute_input": "2020-10-05T17:05:19.603213Z",
     "iopub.status.busy": "2020-10-05T17:05:19.597613Z",
     "iopub.status.idle": "2020-10-05T17:05:19.622936Z",
     "shell.execute_reply": "2020-10-05T17:05:19.622074Z"
    },
    "papermill": {
     "duration": 0.218191,
     "end_time": "2020-10-05T17:05:19.623099",
     "exception": false,
     "start_time": "2020-10-05T17:05:19.404908",
     "status": "completed"
    },
    "tags": []
   },
   "outputs": [
    {
     "data": {
      "text/html": [
       "<div>\n",
       "<style scoped>\n",
       "    .dataframe tbody tr th:only-of-type {\n",
       "        vertical-align: middle;\n",
       "    }\n",
       "\n",
       "    .dataframe tbody tr th {\n",
       "        vertical-align: top;\n",
       "    }\n",
       "\n",
       "    .dataframe thead th {\n",
       "        text-align: right;\n",
       "    }\n",
       "</style>\n",
       "<table border=\"1\" class=\"dataframe\">\n",
       "  <thead>\n",
       "    <tr style=\"text-align: right;\">\n",
       "      <th></th>\n",
       "      <th>Features</th>\n",
       "      <th>VIF</th>\n",
       "    </tr>\n",
       "  </thead>\n",
       "  <tbody>\n",
       "    <tr>\n",
       "      <th>4</th>\n",
       "      <td>pH</td>\n",
       "      <td>11.18</td>\n",
       "    </tr>\n",
       "    <tr>\n",
       "      <th>2</th>\n",
       "      <td>free sulfur dioxide</td>\n",
       "      <td>5.79</td>\n",
       "    </tr>\n",
       "    <tr>\n",
       "      <th>0</th>\n",
       "      <td>volatile acidity</td>\n",
       "      <td>5.65</td>\n",
       "    </tr>\n",
       "    <tr>\n",
       "      <th>5</th>\n",
       "      <td>sulphates</td>\n",
       "      <td>5.45</td>\n",
       "    </tr>\n",
       "    <tr>\n",
       "      <th>6</th>\n",
       "      <td>alcohol</td>\n",
       "      <td>4.86</td>\n",
       "    </tr>\n",
       "    <tr>\n",
       "      <th>3</th>\n",
       "      <td>total sulfur dioxide</td>\n",
       "      <td>4.61</td>\n",
       "    </tr>\n",
       "    <tr>\n",
       "      <th>1</th>\n",
       "      <td>chlorides</td>\n",
       "      <td>3.92</td>\n",
       "    </tr>\n",
       "  </tbody>\n",
       "</table>\n",
       "</div>"
      ],
      "text/plain": [
       "               Features    VIF\n",
       "4                    pH  11.18\n",
       "2   free sulfur dioxide   5.79\n",
       "0      volatile acidity   5.65\n",
       "5             sulphates   5.45\n",
       "6               alcohol   4.86\n",
       "3  total sulfur dioxide   4.61\n",
       "1             chlorides   3.92"
      ]
     },
     "execution_count": 106,
     "metadata": {},
     "output_type": "execute_result"
    }
   ],
   "source": [
    "from statsmodels.stats.outliers_influence import variance_inflation_factor\n",
    "vif = pd.DataFrame()\n",
    "vif['Features'] = X_train_new.columns\n",
    "vif['VIF'] = [variance_inflation_factor(X_train_new.values, i) for i in range(X_train_new.shape[1])]\n",
    "vif['VIF'] = round(vif['VIF'], 2)\n",
    "vif = vif.sort_values(by = \"VIF\", ascending = False)\n",
    "vif"
   ]
  },
  {
   "cell_type": "code",
   "execution_count": 107,
   "metadata": {
    "execution": {
     "iopub.execute_input": "2020-10-05T17:05:19.972682Z",
     "iopub.status.busy": "2020-10-05T17:05:19.971894Z",
     "iopub.status.idle": "2020-10-05T17:05:19.980126Z",
     "shell.execute_reply": "2020-10-05T17:05:19.978499Z"
    },
    "papermill": {
     "duration": 0.185687,
     "end_time": "2020-10-05T17:05:19.980370",
     "exception": false,
     "start_time": "2020-10-05T17:05:19.794683",
     "status": "completed"
    },
    "tags": []
   },
   "outputs": [],
   "source": [
    "X_train_lm3 = sm.add_constant(X_train_new)\n",
    "lr3 = sm.OLS(y_train, X_train_lm3).fit()"
   ]
  },
  {
   "cell_type": "code",
   "execution_count": 108,
   "metadata": {
    "execution": {
     "iopub.execute_input": "2020-10-05T17:05:20.324211Z",
     "iopub.status.busy": "2020-10-05T17:05:20.322844Z",
     "iopub.status.idle": "2020-10-05T17:05:20.328287Z",
     "shell.execute_reply": "2020-10-05T17:05:20.328846Z"
    },
    "papermill": {
     "duration": 0.179354,
     "end_time": "2020-10-05T17:05:20.329024",
     "exception": false,
     "start_time": "2020-10-05T17:05:20.149670",
     "status": "completed"
    },
    "tags": []
   },
   "outputs": [
    {
     "data": {
      "text/plain": [
       "const                   0.531342\n",
       "volatile acidity       -0.293331\n",
       "chlorides              -0.231169\n",
       "free sulfur dioxide     0.047447\n",
       "total sulfur dioxide   -0.176987\n",
       "pH                     -0.109317\n",
       "sulphates               0.260287\n",
       "alcohol                 0.385557\n",
       "dtype: float64"
      ]
     },
     "execution_count": 108,
     "metadata": {},
     "output_type": "execute_result"
    }
   ],
   "source": [
    "lr3.params"
   ]
  },
  {
   "cell_type": "code",
   "execution_count": 109,
   "metadata": {
    "execution": {
     "iopub.execute_input": "2020-10-05T17:05:20.681323Z",
     "iopub.status.busy": "2020-10-05T17:05:20.680605Z",
     "iopub.status.idle": "2020-10-05T17:05:20.700179Z",
     "shell.execute_reply": "2020-10-05T17:05:20.699139Z"
    },
    "papermill": {
     "duration": 0.192947,
     "end_time": "2020-10-05T17:05:20.700355",
     "exception": false,
     "start_time": "2020-10-05T17:05:20.507408",
     "status": "completed"
    },
    "tags": []
   },
   "outputs": [
    {
     "name": "stdout",
     "output_type": "stream",
     "text": [
      "                            OLS Regression Results                            \n",
      "==============================================================================\n",
      "Dep. Variable:                quality   R-squared:                       0.363\n",
      "Model:                            OLS   Adj. R-squared:                  0.358\n",
      "Method:                 Least Squares   F-statistic:                     76.76\n",
      "Date:                Fri, 20 Oct 2023   Prob (F-statistic):           5.35e-88\n",
      "Time:                        20:25:12   Log-Likelihood:                 598.45\n",
      "No. Observations:                 951   AIC:                            -1181.\n",
      "Df Residuals:                     943   BIC:                            -1142.\n",
      "Df Model:                           7                                         \n",
      "Covariance Type:            nonrobust                                         \n",
      "========================================================================================\n",
      "                           coef    std err          t      P>|t|      [0.025      0.975]\n",
      "----------------------------------------------------------------------------------------\n",
      "const                    0.5313      0.024     22.256      0.000       0.484       0.578\n",
      "volatile acidity        -0.2933      0.036     -8.219      0.000      -0.363      -0.223\n",
      "chlorides               -0.2312      0.055     -4.211      0.000      -0.339      -0.123\n",
      "free sulfur dioxide      0.0474      0.037      1.293      0.196      -0.025       0.119\n",
      "total sulfur dioxide    -0.1770      0.049     -3.635      0.000      -0.273      -0.081\n",
      "pH                      -0.1093      0.035     -3.091      0.002      -0.179      -0.040\n",
      "sulphates                0.2603      0.045      5.770      0.000       0.172       0.349\n",
      "alcohol                  0.3856      0.028     13.767      0.000       0.331       0.441\n",
      "==============================================================================\n",
      "Omnibus:                        8.811   Durbin-Watson:                   1.971\n",
      "Prob(Omnibus):                  0.012   Jarque-Bera (JB):               11.394\n",
      "Skew:                          -0.101   Prob(JB):                      0.00336\n",
      "Kurtosis:                       3.496   Cond. No.                         18.6\n",
      "==============================================================================\n",
      "\n",
      "Notes:\n",
      "[1] Standard Errors assume that the covariance matrix of the errors is correctly specified.\n"
     ]
    }
   ],
   "source": [
    "print(lr3.summary())"
   ]
  },
  {
   "cell_type": "markdown",
   "metadata": {
    "papermill": {
     "duration": 0.172854,
     "end_time": "2020-10-05T17:05:21.047443",
     "exception": false,
     "start_time": "2020-10-05T17:05:20.874589",
     "status": "completed"
    },
    "tags": []
   },
   "source": [
    "## Model 4"
   ]
  },
  {
   "cell_type": "code",
   "execution_count": 110,
   "metadata": {
    "execution": {
     "iopub.execute_input": "2020-10-05T17:05:21.451837Z",
     "iopub.status.busy": "2020-10-05T17:05:21.450895Z",
     "iopub.status.idle": "2020-10-05T17:05:21.453954Z",
     "shell.execute_reply": "2020-10-05T17:05:21.453210Z"
    },
    "papermill": {
     "duration": 0.198972,
     "end_time": "2020-10-05T17:05:21.454087",
     "exception": false,
     "start_time": "2020-10-05T17:05:21.255115",
     "status": "completed"
    },
    "tags": []
   },
   "outputs": [],
   "source": [
    "X_train_new = X_train_new.drop([\"free sulfur dioxide\"], axis = 1)"
   ]
  },
  {
   "cell_type": "markdown",
   "metadata": {
    "papermill": {
     "duration": 0.170354,
     "end_time": "2020-10-05T17:05:21.794915",
     "exception": false,
     "start_time": "2020-10-05T17:05:21.624561",
     "status": "completed"
    },
    "tags": []
   },
   "source": [
    "### VIF"
   ]
  },
  {
   "cell_type": "code",
   "execution_count": 111,
   "metadata": {
    "execution": {
     "iopub.execute_input": "2020-10-05T17:05:22.150055Z",
     "iopub.status.busy": "2020-10-05T17:05:22.148928Z",
     "iopub.status.idle": "2020-10-05T17:05:22.171854Z",
     "shell.execute_reply": "2020-10-05T17:05:22.171131Z"
    },
    "papermill": {
     "duration": 0.203078,
     "end_time": "2020-10-05T17:05:22.172005",
     "exception": false,
     "start_time": "2020-10-05T17:05:21.968927",
     "status": "completed"
    },
    "tags": []
   },
   "outputs": [
    {
     "data": {
      "text/html": [
       "<div>\n",
       "<style scoped>\n",
       "    .dataframe tbody tr th:only-of-type {\n",
       "        vertical-align: middle;\n",
       "    }\n",
       "\n",
       "    .dataframe tbody tr th {\n",
       "        vertical-align: top;\n",
       "    }\n",
       "\n",
       "    .dataframe thead th {\n",
       "        text-align: right;\n",
       "    }\n",
       "</style>\n",
       "<table border=\"1\" class=\"dataframe\">\n",
       "  <thead>\n",
       "    <tr style=\"text-align: right;\">\n",
       "      <th></th>\n",
       "      <th>Features</th>\n",
       "      <th>VIF</th>\n",
       "    </tr>\n",
       "  </thead>\n",
       "  <tbody>\n",
       "    <tr>\n",
       "      <th>3</th>\n",
       "      <td>pH</td>\n",
       "      <td>10.49</td>\n",
       "    </tr>\n",
       "    <tr>\n",
       "      <th>0</th>\n",
       "      <td>volatile acidity</td>\n",
       "      <td>5.60</td>\n",
       "    </tr>\n",
       "    <tr>\n",
       "      <th>4</th>\n",
       "      <td>sulphates</td>\n",
       "      <td>5.40</td>\n",
       "    </tr>\n",
       "    <tr>\n",
       "      <th>5</th>\n",
       "      <td>alcohol</td>\n",
       "      <td>4.85</td>\n",
       "    </tr>\n",
       "    <tr>\n",
       "      <th>1</th>\n",
       "      <td>chlorides</td>\n",
       "      <td>3.92</td>\n",
       "    </tr>\n",
       "    <tr>\n",
       "      <th>2</th>\n",
       "      <td>total sulfur dioxide</td>\n",
       "      <td>2.40</td>\n",
       "    </tr>\n",
       "  </tbody>\n",
       "</table>\n",
       "</div>"
      ],
      "text/plain": [
       "               Features    VIF\n",
       "3                    pH  10.49\n",
       "0      volatile acidity   5.60\n",
       "4             sulphates   5.40\n",
       "5               alcohol   4.85\n",
       "1             chlorides   3.92\n",
       "2  total sulfur dioxide   2.40"
      ]
     },
     "execution_count": 111,
     "metadata": {},
     "output_type": "execute_result"
    }
   ],
   "source": [
    "from statsmodels.stats.outliers_influence import variance_inflation_factor\n",
    "vif = pd.DataFrame()\n",
    "vif['Features'] = X_train_new.columns\n",
    "vif['VIF'] = [variance_inflation_factor(X_train_new.values, i) for i in range(X_train_new.shape[1])]\n",
    "vif['VIF'] = round(vif['VIF'], 2)\n",
    "vif = vif.sort_values(by = \"VIF\", ascending = False)\n",
    "vif"
   ]
  },
  {
   "cell_type": "code",
   "execution_count": 112,
   "metadata": {
    "execution": {
     "iopub.execute_input": "2020-10-05T17:05:22.519826Z",
     "iopub.status.busy": "2020-10-05T17:05:22.515700Z",
     "iopub.status.idle": "2020-10-05T17:05:22.526115Z",
     "shell.execute_reply": "2020-10-05T17:05:22.526799Z"
    },
    "papermill": {
     "duration": 0.184438,
     "end_time": "2020-10-05T17:05:22.526999",
     "exception": false,
     "start_time": "2020-10-05T17:05:22.342561",
     "status": "completed"
    },
    "tags": []
   },
   "outputs": [],
   "source": [
    "X_train_lm4 = sm.add_constant(X_train_new)\n",
    "lr4 = sm.OLS(y_train, X_train_lm4).fit()"
   ]
  },
  {
   "cell_type": "code",
   "execution_count": 113,
   "metadata": {
    "execution": {
     "iopub.execute_input": "2020-10-05T17:05:22.878456Z",
     "iopub.status.busy": "2020-10-05T17:05:22.877417Z",
     "iopub.status.idle": "2020-10-05T17:05:22.881982Z",
     "shell.execute_reply": "2020-10-05T17:05:22.881147Z"
    },
    "papermill": {
     "duration": 0.181834,
     "end_time": "2020-10-05T17:05:22.882117",
     "exception": false,
     "start_time": "2020-10-05T17:05:22.700283",
     "status": "completed"
    },
    "tags": []
   },
   "outputs": [
    {
     "data": {
      "text/plain": [
       "const                   0.532696\n",
       "volatile acidity       -0.298182\n",
       "chlorides              -0.233059\n",
       "total sulfur dioxide   -0.134921\n",
       "pH                     -0.101701\n",
       "sulphates               0.264435\n",
       "alcohol                 0.386312\n",
       "dtype: float64"
      ]
     },
     "execution_count": 113,
     "metadata": {},
     "output_type": "execute_result"
    }
   ],
   "source": [
    "lr4.params"
   ]
  },
  {
   "cell_type": "code",
   "execution_count": 114,
   "metadata": {
    "execution": {
     "iopub.execute_input": "2020-10-05T17:05:23.234871Z",
     "iopub.status.busy": "2020-10-05T17:05:23.233824Z",
     "iopub.status.idle": "2020-10-05T17:05:23.253006Z",
     "shell.execute_reply": "2020-10-05T17:05:23.253961Z"
    },
    "papermill": {
     "duration": 0.203999,
     "end_time": "2020-10-05T17:05:23.254176",
     "exception": false,
     "start_time": "2020-10-05T17:05:23.050177",
     "status": "completed"
    },
    "tags": []
   },
   "outputs": [
    {
     "name": "stdout",
     "output_type": "stream",
     "text": [
      "                            OLS Regression Results                            \n",
      "==============================================================================\n",
      "Dep. Variable:                quality   R-squared:                       0.362\n",
      "Model:                            OLS   Adj. R-squared:                  0.358\n",
      "Method:                 Least Squares   F-statistic:                     89.21\n",
      "Date:                Fri, 20 Oct 2023   Prob (F-statistic):           1.24e-88\n",
      "Time:                        20:25:18   Log-Likelihood:                 597.61\n",
      "No. Observations:                 951   AIC:                            -1181.\n",
      "Df Residuals:                     944   BIC:                            -1147.\n",
      "Df Model:                           6                                         \n",
      "Covariance Type:            nonrobust                                         \n",
      "========================================================================================\n",
      "                           coef    std err          t      P>|t|      [0.025      0.975]\n",
      "----------------------------------------------------------------------------------------\n",
      "const                    0.5327      0.024     22.327      0.000       0.486       0.580\n",
      "volatile acidity        -0.2982      0.036     -8.398      0.000      -0.368      -0.229\n",
      "chlorides               -0.2331      0.055     -4.246      0.000      -0.341      -0.125\n",
      "total sulfur dioxide    -0.1349      0.036     -3.723      0.000      -0.206      -0.064\n",
      "pH                      -0.1017      0.035     -2.915      0.004      -0.170      -0.033\n",
      "sulphates                0.2644      0.045      5.875      0.000       0.176       0.353\n",
      "alcohol                  0.3863      0.028     13.792      0.000       0.331       0.441\n",
      "==============================================================================\n",
      "Omnibus:                        9.474   Durbin-Watson:                   1.975\n",
      "Prob(Omnibus):                  0.009   Jarque-Bera (JB):               12.338\n",
      "Skew:                          -0.110   Prob(JB):                      0.00209\n",
      "Kurtosis:                       3.513   Cond. No.                         18.2\n",
      "==============================================================================\n",
      "\n",
      "Notes:\n",
      "[1] Standard Errors assume that the covariance matrix of the errors is correctly specified.\n"
     ]
    }
   ],
   "source": [
    "print(lr4.summary())"
   ]
  },
  {
   "cell_type": "markdown",
   "metadata": {
    "papermill": {
     "duration": 0.168859,
     "end_time": "2020-10-05T17:05:23.596363",
     "exception": false,
     "start_time": "2020-10-05T17:05:23.427504",
     "status": "completed"
    },
    "tags": []
   },
   "source": [
    "## Model 5"
   ]
  },
  {
   "cell_type": "code",
   "execution_count": 115,
   "metadata": {
    "execution": {
     "iopub.execute_input": "2020-10-05T17:05:23.947688Z",
     "iopub.status.busy": "2020-10-05T17:05:23.946637Z",
     "iopub.status.idle": "2020-10-05T17:05:23.952069Z",
     "shell.execute_reply": "2020-10-05T17:05:23.950909Z"
    },
    "papermill": {
     "duration": 0.186446,
     "end_time": "2020-10-05T17:05:23.952261",
     "exception": false,
     "start_time": "2020-10-05T17:05:23.765815",
     "status": "completed"
    },
    "tags": []
   },
   "outputs": [],
   "source": [
    "X_train_new = X_train_new.drop([\"pH\"], axis = 1)"
   ]
  },
  {
   "cell_type": "markdown",
   "metadata": {
    "papermill": {
     "duration": 0.174496,
     "end_time": "2020-10-05T17:05:24.301451",
     "exception": false,
     "start_time": "2020-10-05T17:05:24.126955",
     "status": "completed"
    },
    "tags": []
   },
   "source": [
    "### VIF"
   ]
  },
  {
   "cell_type": "code",
   "execution_count": 116,
   "metadata": {
    "execution": {
     "iopub.execute_input": "2020-10-05T17:05:24.670192Z",
     "iopub.status.busy": "2020-10-05T17:05:24.667658Z",
     "iopub.status.idle": "2020-10-05T17:05:24.691052Z",
     "shell.execute_reply": "2020-10-05T17:05:24.690323Z"
    },
    "papermill": {
     "duration": 0.206218,
     "end_time": "2020-10-05T17:05:24.691178",
     "exception": false,
     "start_time": "2020-10-05T17:05:24.484960",
     "status": "completed"
    },
    "tags": []
   },
   "outputs": [
    {
     "data": {
      "text/html": [
       "<div>\n",
       "<style scoped>\n",
       "    .dataframe tbody tr th:only-of-type {\n",
       "        vertical-align: middle;\n",
       "    }\n",
       "\n",
       "    .dataframe tbody tr th {\n",
       "        vertical-align: top;\n",
       "    }\n",
       "\n",
       "    .dataframe thead th {\n",
       "        text-align: right;\n",
       "    }\n",
       "</style>\n",
       "<table border=\"1\" class=\"dataframe\">\n",
       "  <thead>\n",
       "    <tr style=\"text-align: right;\">\n",
       "      <th></th>\n",
       "      <th>Features</th>\n",
       "      <th>VIF</th>\n",
       "    </tr>\n",
       "  </thead>\n",
       "  <tbody>\n",
       "    <tr>\n",
       "      <th>3</th>\n",
       "      <td>sulphates</td>\n",
       "      <td>5.22</td>\n",
       "    </tr>\n",
       "    <tr>\n",
       "      <th>1</th>\n",
       "      <td>chlorides</td>\n",
       "      <td>3.92</td>\n",
       "    </tr>\n",
       "    <tr>\n",
       "      <th>0</th>\n",
       "      <td>volatile acidity</td>\n",
       "      <td>3.43</td>\n",
       "    </tr>\n",
       "    <tr>\n",
       "      <th>4</th>\n",
       "      <td>alcohol</td>\n",
       "      <td>3.24</td>\n",
       "    </tr>\n",
       "    <tr>\n",
       "      <th>2</th>\n",
       "      <td>total sulfur dioxide</td>\n",
       "      <td>2.32</td>\n",
       "    </tr>\n",
       "  </tbody>\n",
       "</table>\n",
       "</div>"
      ],
      "text/plain": [
       "               Features   VIF\n",
       "3             sulphates  5.22\n",
       "1             chlorides  3.92\n",
       "0      volatile acidity  3.43\n",
       "4               alcohol  3.24\n",
       "2  total sulfur dioxide  2.32"
      ]
     },
     "execution_count": 116,
     "metadata": {},
     "output_type": "execute_result"
    }
   ],
   "source": [
    "from statsmodels.stats.outliers_influence import variance_inflation_factor\n",
    "vif = pd.DataFrame()\n",
    "vif['Features'] = X_train_new.columns\n",
    "vif['VIF'] = [variance_inflation_factor(X_train_new.values, i) for i in range(X_train_new.shape[1])]\n",
    "vif['VIF'] = round(vif['VIF'], 2)\n",
    "vif = vif.sort_values(by = \"VIF\", ascending = False)\n",
    "vif"
   ]
  },
  {
   "cell_type": "code",
   "execution_count": 117,
   "metadata": {
    "execution": {
     "iopub.execute_input": "2020-10-05T17:05:25.050016Z",
     "iopub.status.busy": "2020-10-05T17:05:25.048928Z",
     "iopub.status.idle": "2020-10-05T17:05:25.052710Z",
     "shell.execute_reply": "2020-10-05T17:05:25.053298Z"
    },
    "papermill": {
     "duration": 0.187323,
     "end_time": "2020-10-05T17:05:25.053451",
     "exception": false,
     "start_time": "2020-10-05T17:05:24.866128",
     "status": "completed"
    },
    "tags": []
   },
   "outputs": [],
   "source": [
    "X_train_lm5 = sm.add_constant(X_train_new)\n",
    "lr5 = sm.OLS(y_train, X_train_lm5).fit()"
   ]
  },
  {
   "cell_type": "code",
   "execution_count": 118,
   "metadata": {
    "execution": {
     "iopub.execute_input": "2020-10-05T17:05:25.418913Z",
     "iopub.status.busy": "2020-10-05T17:05:25.417886Z",
     "iopub.status.idle": "2020-10-05T17:05:25.423017Z",
     "shell.execute_reply": "2020-10-05T17:05:25.422246Z"
    },
    "papermill": {
     "duration": 0.186759,
     "end_time": "2020-10-05T17:05:25.423162",
     "exception": false,
     "start_time": "2020-10-05T17:05:25.236403",
     "status": "completed"
    },
    "tags": []
   },
   "outputs": [
    {
     "data": {
      "text/plain": [
       "const                   0.488353\n",
       "volatile acidity       -0.327050\n",
       "chlorides              -0.198607\n",
       "total sulfur dioxide   -0.127851\n",
       "sulphates               0.272666\n",
       "alcohol                 0.370526\n",
       "dtype: float64"
      ]
     },
     "execution_count": 118,
     "metadata": {},
     "output_type": "execute_result"
    }
   ],
   "source": [
    "lr5.params"
   ]
  },
  {
   "cell_type": "code",
   "execution_count": 119,
   "metadata": {
    "execution": {
     "iopub.execute_input": "2020-10-05T17:05:25.776026Z",
     "iopub.status.busy": "2020-10-05T17:05:25.774832Z",
     "iopub.status.idle": "2020-10-05T17:05:25.791960Z",
     "shell.execute_reply": "2020-10-05T17:05:25.790939Z"
    },
    "papermill": {
     "duration": 0.196125,
     "end_time": "2020-10-05T17:05:25.792178",
     "exception": false,
     "start_time": "2020-10-05T17:05:25.596053",
     "status": "completed"
    },
    "tags": []
   },
   "outputs": [
    {
     "name": "stdout",
     "output_type": "stream",
     "text": [
      "                            OLS Regression Results                            \n",
      "==============================================================================\n",
      "Dep. Variable:                quality   R-squared:                       0.356\n",
      "Model:                            OLS   Adj. R-squared:                  0.353\n",
      "Method:                 Least Squares   F-statistic:                     104.5\n",
      "Date:                Fri, 20 Oct 2023   Prob (F-statistic):           7.67e-88\n",
      "Time:                        20:25:24   Log-Likelihood:                 593.35\n",
      "No. Observations:                 951   AIC:                            -1175.\n",
      "Df Residuals:                     945   BIC:                            -1146.\n",
      "Df Model:                           5                                         \n",
      "Covariance Type:            nonrobust                                         \n",
      "========================================================================================\n",
      "                           coef    std err          t      P>|t|      [0.025      0.975]\n",
      "----------------------------------------------------------------------------------------\n",
      "const                    0.4884      0.018     26.461      0.000       0.452       0.525\n",
      "volatile acidity        -0.3271      0.034     -9.554      0.000      -0.394      -0.260\n",
      "chlorides               -0.1986      0.054     -3.690      0.000      -0.304      -0.093\n",
      "total sulfur dioxide    -0.1279      0.036     -3.522      0.000      -0.199      -0.057\n",
      "sulphates                0.2727      0.045      6.046      0.000       0.184       0.361\n",
      "alcohol                  0.3705      0.028     13.430      0.000       0.316       0.425\n",
      "==============================================================================\n",
      "Omnibus:                        9.315   Durbin-Watson:                   1.992\n",
      "Prob(Omnibus):                  0.009   Jarque-Bera (JB):               12.650\n",
      "Skew:                          -0.086   Prob(JB):                      0.00179\n",
      "Kurtosis:                       3.538   Cond. No.                         16.4\n",
      "==============================================================================\n",
      "\n",
      "Notes:\n",
      "[1] Standard Errors assume that the covariance matrix of the errors is correctly specified.\n"
     ]
    }
   ],
   "source": [
    "print(lr5.summary())"
   ]
  },
  {
   "cell_type": "markdown",
   "metadata": {
    "papermill": {
     "duration": 0.181308,
     "end_time": "2020-10-05T17:05:26.153970",
     "exception": false,
     "start_time": "2020-10-05T17:05:25.972662",
     "status": "completed"
    },
    "tags": []
   },
   "source": [
    "## Model 6"
   ]
  },
  {
   "cell_type": "code",
   "execution_count": 120,
   "metadata": {
    "execution": {
     "iopub.execute_input": "2020-10-05T17:05:26.532389Z",
     "iopub.status.busy": "2020-10-05T17:05:26.531584Z",
     "iopub.status.idle": "2020-10-05T17:05:26.536703Z",
     "shell.execute_reply": "2020-10-05T17:05:26.536004Z"
    },
    "papermill": {
     "duration": 0.180001,
     "end_time": "2020-10-05T17:05:26.536843",
     "exception": false,
     "start_time": "2020-10-05T17:05:26.356842",
     "status": "completed"
    },
    "tags": []
   },
   "outputs": [],
   "source": [
    "X_train_new = X_train_new.drop([\"sulphates\"], axis = 1)"
   ]
  },
  {
   "cell_type": "markdown",
   "metadata": {
    "papermill": {
     "duration": 0.171552,
     "end_time": "2020-10-05T17:05:26.881400",
     "exception": false,
     "start_time": "2020-10-05T17:05:26.709848",
     "status": "completed"
    },
    "tags": []
   },
   "source": [
    "### VIF"
   ]
  },
  {
   "cell_type": "code",
   "execution_count": 121,
   "metadata": {
    "execution": {
     "iopub.execute_input": "2020-10-05T17:05:27.253127Z",
     "iopub.status.busy": "2020-10-05T17:05:27.252329Z",
     "iopub.status.idle": "2020-10-05T17:05:27.278280Z",
     "shell.execute_reply": "2020-10-05T17:05:27.277434Z"
    },
    "papermill": {
     "duration": 0.215709,
     "end_time": "2020-10-05T17:05:27.278432",
     "exception": false,
     "start_time": "2020-10-05T17:05:27.062723",
     "status": "completed"
    },
    "tags": []
   },
   "outputs": [
    {
     "data": {
      "text/html": [
       "<div>\n",
       "<style scoped>\n",
       "    .dataframe tbody tr th:only-of-type {\n",
       "        vertical-align: middle;\n",
       "    }\n",
       "\n",
       "    .dataframe tbody tr th {\n",
       "        vertical-align: top;\n",
       "    }\n",
       "\n",
       "    .dataframe thead th {\n",
       "        text-align: right;\n",
       "    }\n",
       "</style>\n",
       "<table border=\"1\" class=\"dataframe\">\n",
       "  <thead>\n",
       "    <tr style=\"text-align: right;\">\n",
       "      <th></th>\n",
       "      <th>Features</th>\n",
       "      <th>VIF</th>\n",
       "    </tr>\n",
       "  </thead>\n",
       "  <tbody>\n",
       "    <tr>\n",
       "      <th>0</th>\n",
       "      <td>volatile acidity</td>\n",
       "      <td>3.41</td>\n",
       "    </tr>\n",
       "    <tr>\n",
       "      <th>3</th>\n",
       "      <td>alcohol</td>\n",
       "      <td>2.49</td>\n",
       "    </tr>\n",
       "    <tr>\n",
       "      <th>1</th>\n",
       "      <td>chlorides</td>\n",
       "      <td>2.48</td>\n",
       "    </tr>\n",
       "    <tr>\n",
       "      <th>2</th>\n",
       "      <td>total sulfur dioxide</td>\n",
       "      <td>2.19</td>\n",
       "    </tr>\n",
       "  </tbody>\n",
       "</table>\n",
       "</div>"
      ],
      "text/plain": [
       "               Features   VIF\n",
       "0      volatile acidity  3.41\n",
       "3               alcohol  2.49\n",
       "1             chlorides  2.48\n",
       "2  total sulfur dioxide  2.19"
      ]
     },
     "execution_count": 121,
     "metadata": {},
     "output_type": "execute_result"
    }
   ],
   "source": [
    "from statsmodels.stats.outliers_influence import variance_inflation_factor\n",
    "vif = pd.DataFrame()\n",
    "vif['Features'] = X_train_new.columns\n",
    "vif['VIF'] = [variance_inflation_factor(X_train_new.values, i) for i in range(X_train_new.shape[1])]\n",
    "vif['VIF'] = round(vif['VIF'], 2)\n",
    "vif = vif.sort_values(by = \"VIF\", ascending = False)\n",
    "vif"
   ]
  },
  {
   "cell_type": "code",
   "execution_count": 122,
   "metadata": {
    "execution": {
     "iopub.execute_input": "2020-10-05T17:05:27.656184Z",
     "iopub.status.busy": "2020-10-05T17:05:27.655193Z",
     "iopub.status.idle": "2020-10-05T17:05:27.659688Z",
     "shell.execute_reply": "2020-10-05T17:05:27.660265Z"
    },
    "papermill": {
     "duration": 0.1994,
     "end_time": "2020-10-05T17:05:27.660462",
     "exception": false,
     "start_time": "2020-10-05T17:05:27.461062",
     "status": "completed"
    },
    "tags": []
   },
   "outputs": [],
   "source": [
    "X_train_lm6 = sm.add_constant(X_train_new)\n",
    "lr6 = sm.OLS(y_train, X_train_lm6).fit()"
   ]
  },
  {
   "cell_type": "code",
   "execution_count": 123,
   "metadata": {
    "execution": {
     "iopub.execute_input": "2020-10-05T17:05:28.021157Z",
     "iopub.status.busy": "2020-10-05T17:05:28.020062Z",
     "iopub.status.idle": "2020-10-05T17:05:28.024640Z",
     "shell.execute_reply": "2020-10-05T17:05:28.023868Z"
    },
    "papermill": {
     "duration": 0.18446,
     "end_time": "2020-10-05T17:05:28.024784",
     "exception": false,
     "start_time": "2020-10-05T17:05:27.840324",
     "status": "completed"
    },
    "tags": []
   },
   "outputs": [
    {
     "data": {
      "text/plain": [
       "const                   0.527163\n",
       "volatile acidity       -0.382459\n",
       "chlorides              -0.043191\n",
       "total sulfur dioxide   -0.108409\n",
       "alcohol                 0.393210\n",
       "dtype: float64"
      ]
     },
     "execution_count": 123,
     "metadata": {},
     "output_type": "execute_result"
    }
   ],
   "source": [
    "lr6.params"
   ]
  },
  {
   "cell_type": "code",
   "execution_count": 124,
   "metadata": {
    "execution": {
     "iopub.execute_input": "2020-10-05T17:05:28.394324Z",
     "iopub.status.busy": "2020-10-05T17:05:28.393138Z",
     "iopub.status.idle": "2020-10-05T17:05:28.412317Z",
     "shell.execute_reply": "2020-10-05T17:05:28.411000Z"
    },
    "papermill": {
     "duration": 0.212315,
     "end_time": "2020-10-05T17:05:28.412567",
     "exception": false,
     "start_time": "2020-10-05T17:05:28.200252",
     "status": "completed"
    },
    "tags": []
   },
   "outputs": [
    {
     "name": "stdout",
     "output_type": "stream",
     "text": [
      "                            OLS Regression Results                            \n",
      "==============================================================================\n",
      "Dep. Variable:                quality   R-squared:                       0.331\n",
      "Model:                            OLS   Adj. R-squared:                  0.328\n",
      "Method:                 Least Squares   F-statistic:                     117.1\n",
      "Date:                Fri, 20 Oct 2023   Prob (F-statistic):           3.65e-81\n",
      "Time:                        20:25:28   Log-Likelihood:                 575.30\n",
      "No. Observations:                 951   AIC:                            -1141.\n",
      "Df Residuals:                     946   BIC:                            -1116.\n",
      "Df Model:                           4                                         \n",
      "Covariance Type:            nonrobust                                         \n",
      "========================================================================================\n",
      "                           coef    std err          t      P>|t|      [0.025      0.975]\n",
      "----------------------------------------------------------------------------------------\n",
      "const                    0.5272      0.018     29.910      0.000       0.493       0.562\n",
      "volatile acidity        -0.3825      0.034    -11.384      0.000      -0.448      -0.317\n",
      "chlorides               -0.0432      0.048     -0.897      0.370      -0.138       0.051\n",
      "total sulfur dioxide    -0.1084      0.037     -2.943      0.003      -0.181      -0.036\n",
      "alcohol                  0.3932      0.028     14.123      0.000       0.339       0.448\n",
      "==============================================================================\n",
      "Omnibus:                        8.684   Durbin-Watson:                   1.971\n",
      "Prob(Omnibus):                  0.013   Jarque-Bera (JB):               12.117\n",
      "Skew:                          -0.054   Prob(JB):                      0.00234\n",
      "Kurtosis:                       3.543   Cond. No.                         12.8\n",
      "==============================================================================\n",
      "\n",
      "Notes:\n",
      "[1] Standard Errors assume that the covariance matrix of the errors is correctly specified.\n"
     ]
    }
   ],
   "source": [
    "print(lr6.summary())"
   ]
  },
  {
   "cell_type": "markdown",
   "metadata": {
    "papermill": {
     "duration": 0.170932,
     "end_time": "2020-10-05T17:05:28.758132",
     "exception": false,
     "start_time": "2020-10-05T17:05:28.587200",
     "status": "completed"
    },
    "tags": []
   },
   "source": [
    "### Model 7"
   ]
  },
  {
   "cell_type": "code",
   "execution_count": 125,
   "metadata": {
    "execution": {
     "iopub.execute_input": "2020-10-05T17:05:29.114120Z",
     "iopub.status.busy": "2020-10-05T17:05:29.113337Z",
     "iopub.status.idle": "2020-10-05T17:05:29.116948Z",
     "shell.execute_reply": "2020-10-05T17:05:29.116203Z"
    },
    "papermill": {
     "duration": 0.18456,
     "end_time": "2020-10-05T17:05:29.117077",
     "exception": false,
     "start_time": "2020-10-05T17:05:28.932517",
     "status": "completed"
    },
    "tags": []
   },
   "outputs": [],
   "source": [
    "X_train_new = X_train_new.drop([\"chlorides\"], axis = 1)"
   ]
  },
  {
   "cell_type": "markdown",
   "metadata": {
    "papermill": {
     "duration": 0.182347,
     "end_time": "2020-10-05T17:05:29.476813",
     "exception": false,
     "start_time": "2020-10-05T17:05:29.294466",
     "status": "completed"
    },
    "tags": []
   },
   "source": [
    "### VIF"
   ]
  },
  {
   "cell_type": "code",
   "execution_count": 126,
   "metadata": {
    "execution": {
     "iopub.execute_input": "2020-10-05T17:05:29.833262Z",
     "iopub.status.busy": "2020-10-05T17:05:29.832236Z",
     "iopub.status.idle": "2020-10-05T17:05:29.850964Z",
     "shell.execute_reply": "2020-10-05T17:05:29.850216Z"
    },
    "papermill": {
     "duration": 0.20343,
     "end_time": "2020-10-05T17:05:29.851116",
     "exception": false,
     "start_time": "2020-10-05T17:05:29.647686",
     "status": "completed"
    },
    "tags": []
   },
   "outputs": [
    {
     "data": {
      "text/html": [
       "<div>\n",
       "<style scoped>\n",
       "    .dataframe tbody tr th:only-of-type {\n",
       "        vertical-align: middle;\n",
       "    }\n",
       "\n",
       "    .dataframe tbody tr th {\n",
       "        vertical-align: top;\n",
       "    }\n",
       "\n",
       "    .dataframe thead th {\n",
       "        text-align: right;\n",
       "    }\n",
       "</style>\n",
       "<table border=\"1\" class=\"dataframe\">\n",
       "  <thead>\n",
       "    <tr style=\"text-align: right;\">\n",
       "      <th></th>\n",
       "      <th>Features</th>\n",
       "      <th>VIF</th>\n",
       "    </tr>\n",
       "  </thead>\n",
       "  <tbody>\n",
       "    <tr>\n",
       "      <th>0</th>\n",
       "      <td>volatile acidity</td>\n",
       "      <td>2.91</td>\n",
       "    </tr>\n",
       "    <tr>\n",
       "      <th>2</th>\n",
       "      <td>alcohol</td>\n",
       "      <td>2.39</td>\n",
       "    </tr>\n",
       "    <tr>\n",
       "      <th>1</th>\n",
       "      <td>total sulfur dioxide</td>\n",
       "      <td>2.08</td>\n",
       "    </tr>\n",
       "  </tbody>\n",
       "</table>\n",
       "</div>"
      ],
      "text/plain": [
       "               Features   VIF\n",
       "0      volatile acidity  2.91\n",
       "2               alcohol  2.39\n",
       "1  total sulfur dioxide  2.08"
      ]
     },
     "execution_count": 126,
     "metadata": {},
     "output_type": "execute_result"
    }
   ],
   "source": [
    "from statsmodels.stats.outliers_influence import variance_inflation_factor\n",
    "vif = pd.DataFrame()\n",
    "vif['Features'] = X_train_new.columns\n",
    "vif['VIF'] = [variance_inflation_factor(X_train_new.values, i) for i in range(X_train_new.shape[1])]\n",
    "vif['VIF'] = round(vif['VIF'], 2)\n",
    "vif = vif.sort_values(by = \"VIF\", ascending = False)\n",
    "vif"
   ]
  },
  {
   "cell_type": "code",
   "execution_count": 127,
   "metadata": {
    "execution": {
     "iopub.execute_input": "2020-10-05T17:05:30.211510Z",
     "iopub.status.busy": "2020-10-05T17:05:30.210368Z",
     "iopub.status.idle": "2020-10-05T17:05:30.214511Z",
     "shell.execute_reply": "2020-10-05T17:05:30.215098Z"
    },
    "papermill": {
     "duration": 0.189641,
     "end_time": "2020-10-05T17:05:30.215290",
     "exception": false,
     "start_time": "2020-10-05T17:05:30.025649",
     "status": "completed"
    },
    "tags": []
   },
   "outputs": [],
   "source": [
    "X_train_lm7 = sm.add_constant(X_train_new)\n",
    "lr7 = sm.OLS(y_train, X_train_lm7).fit()"
   ]
  },
  {
   "cell_type": "code",
   "execution_count": 128,
   "metadata": {
    "execution": {
     "iopub.execute_input": "2020-10-05T17:05:30.576383Z",
     "iopub.status.busy": "2020-10-05T17:05:30.575397Z",
     "iopub.status.idle": "2020-10-05T17:05:30.580002Z",
     "shell.execute_reply": "2020-10-05T17:05:30.580667Z"
    },
    "papermill": {
     "duration": 0.191886,
     "end_time": "2020-10-05T17:05:30.580833",
     "exception": false,
     "start_time": "2020-10-05T17:05:30.388947",
     "status": "completed"
    },
    "tags": []
   },
   "outputs": [
    {
     "data": {
      "text/plain": [
       "const                   0.519771\n",
       "volatile acidity       -0.382410\n",
       "total sulfur dioxide   -0.107978\n",
       "alcohol                 0.398673\n",
       "dtype: float64"
      ]
     },
     "execution_count": 128,
     "metadata": {},
     "output_type": "execute_result"
    }
   ],
   "source": [
    "lr7.params"
   ]
  },
  {
   "cell_type": "code",
   "execution_count": 129,
   "metadata": {
    "execution": {
     "iopub.execute_input": "2020-10-05T17:05:30.940464Z",
     "iopub.status.busy": "2020-10-05T17:05:30.938690Z",
     "iopub.status.idle": "2020-10-05T17:05:30.956913Z",
     "shell.execute_reply": "2020-10-05T17:05:30.955834Z"
    },
    "papermill": {
     "duration": 0.20254,
     "end_time": "2020-10-05T17:05:30.957105",
     "exception": false,
     "start_time": "2020-10-05T17:05:30.754565",
     "status": "completed"
    },
    "tags": []
   },
   "outputs": [
    {
     "name": "stdout",
     "output_type": "stream",
     "text": [
      "                            OLS Regression Results                            \n",
      "==============================================================================\n",
      "Dep. Variable:                quality   R-squared:                       0.331\n",
      "Model:                            OLS   Adj. R-squared:                  0.329\n",
      "Method:                 Least Squares   F-statistic:                     155.9\n",
      "Date:                Fri, 20 Oct 2023   Prob (F-statistic):           4.01e-82\n",
      "Time:                        20:25:31   Log-Likelihood:                 574.90\n",
      "No. Observations:                 951   AIC:                            -1142.\n",
      "Df Residuals:                     947   BIC:                            -1122.\n",
      "Df Model:                           3                                         \n",
      "Covariance Type:            nonrobust                                         \n",
      "========================================================================================\n",
      "                           coef    std err          t      P>|t|      [0.025      0.975]\n",
      "----------------------------------------------------------------------------------------\n",
      "const                    0.5198      0.016     33.367      0.000       0.489       0.550\n",
      "volatile acidity        -0.3824      0.034    -11.384      0.000      -0.448      -0.316\n",
      "total sulfur dioxide    -0.1080      0.037     -2.932      0.003      -0.180      -0.036\n",
      "alcohol                  0.3987      0.027     14.676      0.000       0.345       0.452\n",
      "==============================================================================\n",
      "Omnibus:                        8.837   Durbin-Watson:                   1.969\n",
      "Prob(Omnibus):                  0.012   Jarque-Bera (JB):               12.375\n",
      "Skew:                          -0.055   Prob(JB):                      0.00206\n",
      "Kurtosis:                       3.548   Cond. No.                         10.1\n",
      "==============================================================================\n",
      "\n",
      "Notes:\n",
      "[1] Standard Errors assume that the covariance matrix of the errors is correctly specified.\n"
     ]
    }
   ],
   "source": [
    "print(lr7.summary())"
   ]
  },
  {
   "cell_type": "markdown",
   "metadata": {
    "papermill": {
     "duration": 0.184644,
     "end_time": "2020-10-05T17:05:31.325865",
     "exception": false,
     "start_time": "2020-10-05T17:05:31.141221",
     "status": "completed"
    },
    "tags": []
   },
   "source": [
    "## Model 8 "
   ]
  },
  {
   "cell_type": "code",
   "execution_count": 130,
   "metadata": {
    "execution": {
     "iopub.execute_input": "2020-10-05T17:05:31.721374Z",
     "iopub.status.busy": "2020-10-05T17:05:31.720493Z",
     "iopub.status.idle": "2020-10-05T17:05:31.724193Z",
     "shell.execute_reply": "2020-10-05T17:05:31.723177Z"
    },
    "papermill": {
     "duration": 0.190158,
     "end_time": "2020-10-05T17:05:31.724403",
     "exception": false,
     "start_time": "2020-10-05T17:05:31.534245",
     "status": "completed"
    },
    "tags": []
   },
   "outputs": [],
   "source": [
    "X_train_new = X_train_new.drop([\"total sulfur dioxide\"], axis = 1)"
   ]
  },
  {
   "cell_type": "markdown",
   "metadata": {
    "papermill": {
     "duration": 0.178896,
     "end_time": "2020-10-05T17:05:32.085786",
     "exception": false,
     "start_time": "2020-10-05T17:05:31.906890",
     "status": "completed"
    },
    "tags": []
   },
   "source": [
    "### VIF"
   ]
  },
  {
   "cell_type": "code",
   "execution_count": 131,
   "metadata": {
    "execution": {
     "iopub.execute_input": "2020-10-05T17:05:32.519109Z",
     "iopub.status.busy": "2020-10-05T17:05:32.515600Z",
     "iopub.status.idle": "2020-10-05T17:05:32.537298Z",
     "shell.execute_reply": "2020-10-05T17:05:32.538061Z"
    },
    "papermill": {
     "duration": 0.237436,
     "end_time": "2020-10-05T17:05:32.538271",
     "exception": false,
     "start_time": "2020-10-05T17:05:32.300835",
     "status": "completed"
    },
    "tags": []
   },
   "outputs": [
    {
     "data": {
      "text/html": [
       "<div>\n",
       "<style scoped>\n",
       "    .dataframe tbody tr th:only-of-type {\n",
       "        vertical-align: middle;\n",
       "    }\n",
       "\n",
       "    .dataframe tbody tr th {\n",
       "        vertical-align: top;\n",
       "    }\n",
       "\n",
       "    .dataframe thead th {\n",
       "        text-align: right;\n",
       "    }\n",
       "</style>\n",
       "<table border=\"1\" class=\"dataframe\">\n",
       "  <thead>\n",
       "    <tr style=\"text-align: right;\">\n",
       "      <th></th>\n",
       "      <th>Features</th>\n",
       "      <th>VIF</th>\n",
       "    </tr>\n",
       "  </thead>\n",
       "  <tbody>\n",
       "    <tr>\n",
       "      <th>0</th>\n",
       "      <td>volatile acidity</td>\n",
       "      <td>2.29</td>\n",
       "    </tr>\n",
       "    <tr>\n",
       "      <th>1</th>\n",
       "      <td>alcohol</td>\n",
       "      <td>2.29</td>\n",
       "    </tr>\n",
       "  </tbody>\n",
       "</table>\n",
       "</div>"
      ],
      "text/plain": [
       "           Features   VIF\n",
       "0  volatile acidity  2.29\n",
       "1           alcohol  2.29"
      ]
     },
     "execution_count": 131,
     "metadata": {},
     "output_type": "execute_result"
    }
   ],
   "source": [
    "from statsmodels.stats.outliers_influence import variance_inflation_factor\n",
    "vif = pd.DataFrame()\n",
    "vif['Features'] = X_train_new.columns\n",
    "vif['VIF'] = [variance_inflation_factor(X_train_new.values, i) for i in range(X_train_new.shape[1])]\n",
    "vif['VIF'] = round(vif['VIF'], 2)\n",
    "vif = vif.sort_values(by = \"VIF\", ascending = False)\n",
    "vif\n",
    "\n"
   ]
  },
  {
   "cell_type": "code",
   "execution_count": 132,
   "metadata": {
    "execution": {
     "iopub.execute_input": "2020-10-05T17:05:32.911165Z",
     "iopub.status.busy": "2020-10-05T17:05:32.910256Z",
     "iopub.status.idle": "2020-10-05T17:05:32.915496Z",
     "shell.execute_reply": "2020-10-05T17:05:32.914439Z"
    },
    "papermill": {
     "duration": 0.194843,
     "end_time": "2020-10-05T17:05:32.915730",
     "exception": false,
     "start_time": "2020-10-05T17:05:32.720887",
     "status": "completed"
    },
    "tags": []
   },
   "outputs": [],
   "source": [
    "X_train_lm8 = sm.add_constant(X_train_new)\n",
    "lr8 = sm.OLS(y_train, X_train_lm8).fit()\n",
    "\n"
   ]
  },
  {
   "cell_type": "code",
   "execution_count": 133,
   "metadata": {
    "execution": {
     "iopub.execute_input": "2020-10-05T17:05:33.284340Z",
     "iopub.status.busy": "2020-10-05T17:05:33.283156Z",
     "iopub.status.idle": "2020-10-05T17:05:33.287636Z",
     "shell.execute_reply": "2020-10-05T17:05:33.288259Z"
    },
    "papermill": {
     "duration": 0.189485,
     "end_time": "2020-10-05T17:05:33.288459",
     "exception": false,
     "start_time": "2020-10-05T17:05:33.098974",
     "status": "completed"
    },
    "tags": []
   },
   "outputs": [
    {
     "data": {
      "text/plain": [
       "const               0.499022\n",
       "volatile acidity   -0.382834\n",
       "alcohol             0.414775\n",
       "dtype: float64"
      ]
     },
     "execution_count": 133,
     "metadata": {},
     "output_type": "execute_result"
    }
   ],
   "source": [
    "lr8.params\n",
    "\n"
   ]
  },
  {
   "cell_type": "code",
   "execution_count": 134,
   "metadata": {
    "execution": {
     "iopub.execute_input": "2020-10-05T17:05:33.670097Z",
     "iopub.status.busy": "2020-10-05T17:05:33.661240Z",
     "iopub.status.idle": "2020-10-05T17:05:33.675561Z",
     "shell.execute_reply": "2020-10-05T17:05:33.674579Z"
    },
    "papermill": {
     "duration": 0.203816,
     "end_time": "2020-10-05T17:05:33.675759",
     "exception": false,
     "start_time": "2020-10-05T17:05:33.471943",
     "status": "completed"
    },
    "tags": []
   },
   "outputs": [
    {
     "name": "stdout",
     "output_type": "stream",
     "text": [
      "                            OLS Regression Results                            \n",
      "==============================================================================\n",
      "Dep. Variable:                quality   R-squared:                       0.325\n",
      "Model:                            OLS   Adj. R-squared:                  0.323\n",
      "Method:                 Least Squares   F-statistic:                     227.8\n",
      "Date:                Fri, 20 Oct 2023   Prob (F-statistic):           1.68e-81\n",
      "Time:                        20:25:34   Log-Likelihood:                 570.60\n",
      "No. Observations:                 951   AIC:                            -1135.\n",
      "Df Residuals:                     948   BIC:                            -1121.\n",
      "Df Model:                           2                                         \n",
      "Covariance Type:            nonrobust                                         \n",
      "====================================================================================\n",
      "                       coef    std err          t      P>|t|      [0.025      0.975]\n",
      "------------------------------------------------------------------------------------\n",
      "const                0.4990      0.014     35.817      0.000       0.472       0.526\n",
      "volatile acidity    -0.3828      0.034    -11.351      0.000      -0.449      -0.317\n",
      "alcohol              0.4148      0.027     15.529      0.000       0.362       0.467\n",
      "==============================================================================\n",
      "Omnibus:                        7.605   Durbin-Watson:                   1.971\n",
      "Prob(Omnibus):                  0.022   Jarque-Bera (JB):               10.540\n",
      "Skew:                          -0.004   Prob(JB):                      0.00514\n",
      "Kurtosis:                       3.516   Cond. No.                         9.23\n",
      "==============================================================================\n",
      "\n",
      "Notes:\n",
      "[1] Standard Errors assume that the covariance matrix of the errors is correctly specified.\n"
     ]
    }
   ],
   "source": [
    "print(lr8.summary())"
   ]
  },
  {
   "cell_type": "markdown",
   "metadata": {
    "papermill": {
     "duration": 0.181887,
     "end_time": "2020-10-05T17:05:34.037391",
     "exception": false,
     "start_time": "2020-10-05T17:05:33.855504",
     "status": "completed"
    },
    "tags": []
   },
   "source": [
    "# Final Model Interpretation"
   ]
  },
  {
   "cell_type": "markdown",
   "metadata": {
    "papermill": {
     "duration": 0.182806,
     "end_time": "2020-10-05T17:05:34.407143",
     "exception": false,
     "start_time": "2020-10-05T17:05:34.224337",
     "status": "completed"
    },
    "tags": []
   },
   "source": [
    "## Hypothesis Testing:\n",
    "\n",
    "Hypothesis testing states that:\n",
    "\n",
    "H0:B1=B2=...=Bn=0\n",
    "H1: at least one Bi!=0\n",
    "\n",
    "lr8 model coefficient values\n",
    "- const                0.4990\n",
    "- volatile acidity    -0.3828     \n",
    "- alcohol              0.4148 "
   ]
  },
  {
   "cell_type": "markdown",
   "metadata": {
    "papermill": {
     "duration": 0.181305,
     "end_time": "2020-10-05T17:05:34.768521",
     "exception": false,
     "start_time": "2020-10-05T17:05:34.587216",
     "status": "completed"
    },
    "tags": []
   },
   "source": [
    "### F Statistics\n",
    "F-Statistics is used for testing the overall significance of the Model: Higher the F-Statistics, more significant the Model is.\n",
    "\n",
    "F-statistic:                     227.8\n",
    "Prob (F-statistic):           1.68e-81\n",
    "The F-Statistics value of 227.8 (which is greater than 1) and the p-value of '~0.0000' states that the overall model is significant"
   ]
  },
  {
   "cell_type": "markdown",
   "metadata": {
    "papermill": {
     "duration": 0.175614,
     "end_time": "2020-10-05T17:05:35.123408",
     "exception": false,
     "start_time": "2020-10-05T17:05:34.947794",
     "status": "completed"
    },
    "tags": []
   },
   "source": [
    "### The equation of best fitted surface based on model lr8:\n",
    "quality = 0.4990 - (volatile acidity × 0.3828) + (alcohol × 0.4148 ) "
   ]
  },
  {
   "cell_type": "markdown",
   "metadata": {
    "papermill": {
     "duration": 0.176985,
     "end_time": "2020-10-05T17:05:35.478373",
     "exception": false,
     "start_time": "2020-10-05T17:05:35.301388",
     "status": "completed"
    },
    "tags": []
   },
   "source": [
    "### Interpretation of Coefficients:\n",
    "volatile acidity: A coefficient value of ‘0.3838’ indicated that a unit decrease in volatite acidity variable, increases the quality numbers by 0.3828 units.\n",
    "\n",
    "alcohol: A coefficient value of ‘0.4148’ indicated that a unit increase in alcohol variable, increases the quality numbers by 0.4148 units."
   ]
  },
  {
   "cell_type": "markdown",
   "metadata": {
    "papermill": {
     "duration": 0.182028,
     "end_time": "2020-10-05T17:05:35.837677",
     "exception": false,
     "start_time": "2020-10-05T17:05:35.655649",
     "status": "completed"
    },
    "tags": []
   },
   "source": [
    "# ASSUMPTIONS\n",
    "\n",
    "## Error terms are normally distributed with mean zero (not X, Y)\n",
    "\n",
    "### Residual Analysis Of Training Data"
   ]
  },
  {
   "cell_type": "code",
   "execution_count": 135,
   "metadata": {
    "execution": {
     "iopub.execute_input": "2020-10-05T17:05:36.209937Z",
     "iopub.status.busy": "2020-10-05T17:05:36.208929Z",
     "iopub.status.idle": "2020-10-05T17:05:36.213286Z",
     "shell.execute_reply": "2020-10-05T17:05:36.212514Z"
    },
    "papermill": {
     "duration": 0.196718,
     "end_time": "2020-10-05T17:05:36.213417",
     "exception": false,
     "start_time": "2020-10-05T17:05:36.016699",
     "status": "completed"
    },
    "tags": []
   },
   "outputs": [],
   "source": [
    "y_train_pred = lr8.predict(X_train_lm8)"
   ]
  },
  {
   "cell_type": "code",
   "execution_count": 136,
   "metadata": {
    "execution": {
     "iopub.execute_input": "2020-10-05T17:05:36.622363Z",
     "iopub.status.busy": "2020-10-05T17:05:36.621332Z",
     "iopub.status.idle": "2020-10-05T17:05:36.867517Z",
     "shell.execute_reply": "2020-10-05T17:05:36.866127Z"
    },
    "papermill": {
     "duration": 0.471657,
     "end_time": "2020-10-05T17:05:36.867724",
     "exception": false,
     "start_time": "2020-10-05T17:05:36.396067",
     "status": "completed"
    },
    "tags": []
   },
   "outputs": [
    {
     "data": {
      "text/plain": [
       "Text(0.5, 0, 'Errors')"
      ]
     },
     "execution_count": 136,
     "metadata": {},
     "output_type": "execute_result"
    },
    {
     "data": {
      "image/png": "[encoded data removed]",
      "text/plain": [
       "<Figure size 640x480 with 1 Axes>"
      ]
     },
     "metadata": {},
     "output_type": "display_data"
    }
   ],
   "source": [
    "res = y_train-y_train_pred\n",
    "# Plot the histogram of the error terms\n",
    "fig = plt.figure()\n",
    "sns.distplot((res), bins = 20)\n",
    "fig.suptitle('Error Terms', fontsize = 20)                  # Plot heading \n",
    "plt.xlabel('Errors', fontsize = 18)"
   ]
  },
  {
   "cell_type": "markdown",
   "metadata": {
    "papermill": {
     "duration": 0.204929,
     "end_time": "2020-10-05T17:05:37.268969",
     "exception": false,
     "start_time": "2020-10-05T17:05:37.064040",
     "status": "completed"
    },
    "tags": []
   },
   "source": [
    "## There is a linear relationship between X and Y"
   ]
  },
  {
   "cell_type": "code",
   "execution_count": 137,
   "metadata": {
    "execution": {
     "iopub.execute_input": "2020-10-05T17:05:37.675590Z",
     "iopub.status.busy": "2020-10-05T17:05:37.674616Z",
     "iopub.status.idle": "2020-10-05T17:05:40.699229Z",
     "shell.execute_reply": "2020-10-05T17:05:40.698495Z"
    },
    "papermill": {
     "duration": 3.228848,
     "end_time": "2020-10-05T17:05:40.699360",
     "exception": false,
     "start_time": "2020-10-05T17:05:37.470512",
     "status": "completed"
    },
    "tags": []
   },
   "outputs": [
    {
     "data": {
      "image/png": "[encoded data removed]",
      "text/plain": [
       "<Figure size 750x750 with 12 Axes>"
      ]
     },
     "metadata": {},
     "output_type": "display_data"
    }
   ],
   "source": [
    "wine_num=wine[[ 'volatile acidity', 'alcohol', 'quality']]\n",
    "\n",
    "sns.pairplot(wine_num)\n",
    "plt.show()"
   ]
  },
  {
   "cell_type": "markdown",
   "metadata": {
    "papermill": {
     "duration": 0.193544,
     "end_time": "2020-10-05T17:05:41.081132",
     "exception": false,
     "start_time": "2020-10-05T17:05:40.887588",
     "status": "completed"
    },
    "tags": []
   },
   "source": [
    "### There is No Multicollinearity between the predictor variables"
   ]
  },
  {
   "cell_type": "code",
   "execution_count": 138,
   "metadata": {
    "execution": {
     "iopub.execute_input": "2020-10-05T17:05:41.479685Z",
     "iopub.status.busy": "2020-10-05T17:05:41.478709Z",
     "iopub.status.idle": "2020-10-05T17:05:41.494224Z",
     "shell.execute_reply": "2020-10-05T17:05:41.495249Z"
    },
    "papermill": {
     "duration": 0.222464,
     "end_time": "2020-10-05T17:05:41.495431",
     "exception": false,
     "start_time": "2020-10-05T17:05:41.272967",
     "status": "completed"
    },
    "tags": []
   },
   "outputs": [
    {
     "data": {
      "text/html": [
       "<div>\n",
       "<style scoped>\n",
       "    .dataframe tbody tr th:only-of-type {\n",
       "        vertical-align: middle;\n",
       "    }\n",
       "\n",
       "    .dataframe tbody tr th {\n",
       "        vertical-align: top;\n",
       "    }\n",
       "\n",
       "    .dataframe thead th {\n",
       "        text-align: right;\n",
       "    }\n",
       "</style>\n",
       "<table border=\"1\" class=\"dataframe\">\n",
       "  <thead>\n",
       "    <tr style=\"text-align: right;\">\n",
       "      <th></th>\n",
       "      <th>Features</th>\n",
       "      <th>VIF</th>\n",
       "    </tr>\n",
       "  </thead>\n",
       "  <tbody>\n",
       "    <tr>\n",
       "      <th>0</th>\n",
       "      <td>volatile acidity</td>\n",
       "      <td>2.29</td>\n",
       "    </tr>\n",
       "    <tr>\n",
       "      <th>1</th>\n",
       "      <td>alcohol</td>\n",
       "      <td>2.29</td>\n",
       "    </tr>\n",
       "  </tbody>\n",
       "</table>\n",
       "</div>"
      ],
      "text/plain": [
       "           Features   VIF\n",
       "0  volatile acidity  2.29\n",
       "1           alcohol  2.29"
      ]
     },
     "execution_count": 138,
     "metadata": {},
     "output_type": "execute_result"
    }
   ],
   "source": [
    "vif = pd.DataFrame()\n",
    "from statsmodels.stats.outliers_influence import variance_inflation_factor\n",
    "vif['Features'] = X_train_new.columns\n",
    "vif['VIF'] = [variance_inflation_factor(X_train_new.values, i) for i in range(X_train_new.shape[1])]\n",
    "vif['VIF'] = round(vif['VIF'], 2)\n",
    "vif = vif.sort_values(by = \"VIF\", ascending = False)\n",
    "vif"
   ]
  },
  {
   "cell_type": "markdown",
   "metadata": {
    "papermill": {
     "duration": 0.182863,
     "end_time": "2020-10-05T17:05:41.870836",
     "exception": false,
     "start_time": "2020-10-05T17:05:41.687973",
     "status": "completed"
    },
    "tags": []
   },
   "source": [
    "# MAKING PREDICTION USING FINAL MODEL"
   ]
  },
  {
   "cell_type": "markdown",
   "metadata": {
    "papermill": {
     "duration": 0.193951,
     "end_time": "2020-10-05T17:05:42.246938",
     "exception": false,
     "start_time": "2020-10-05T17:05:42.052987",
     "status": "completed"
    },
    "tags": []
   },
   "source": [
    "## Applying the scaling on the test sets"
   ]
  },
  {
   "cell_type": "code",
   "execution_count": 139,
   "metadata": {
    "execution": {
     "iopub.execute_input": "2020-10-05T17:05:42.656592Z",
     "iopub.status.busy": "2020-10-05T17:05:42.655812Z",
     "iopub.status.idle": "2020-10-05T17:05:42.660482Z",
     "shell.execute_reply": "2020-10-05T17:05:42.659703Z"
    },
    "papermill": {
     "duration": 0.218666,
     "end_time": "2020-10-05T17:05:42.660634",
     "exception": false,
     "start_time": "2020-10-05T17:05:42.441968",
     "status": "completed"
    },
    "tags": []
   },
   "outputs": [],
   "source": [
    "df_test[:]=scaler.fit_transform(df_test[:])"
   ]
  },
  {
   "cell_type": "code",
   "execution_count": 140,
   "metadata": {
    "execution": {
     "iopub.execute_input": "2020-10-05T17:05:43.124246Z",
     "iopub.status.busy": "2020-10-05T17:05:43.101571Z",
     "iopub.status.idle": "2020-10-05T17:05:43.132029Z",
     "shell.execute_reply": "2020-10-05T17:05:43.131176Z"
    },
    "papermill": {
     "duration": 0.257134,
     "end_time": "2020-10-05T17:05:43.132178",
     "exception": false,
     "start_time": "2020-10-05T17:05:42.875044",
     "status": "completed"
    },
    "tags": []
   },
   "outputs": [
    {
     "data": {
      "text/html": [
       "<div>\n",
       "<style scoped>\n",
       "    .dataframe tbody tr th:only-of-type {\n",
       "        vertical-align: middle;\n",
       "    }\n",
       "\n",
       "    .dataframe tbody tr th {\n",
       "        vertical-align: top;\n",
       "    }\n",
       "\n",
       "    .dataframe thead th {\n",
       "        text-align: right;\n",
       "    }\n",
       "</style>\n",
       "<table border=\"1\" class=\"dataframe\">\n",
       "  <thead>\n",
       "    <tr style=\"text-align: right;\">\n",
       "      <th></th>\n",
       "      <th>fixed acidity</th>\n",
       "      <th>volatile acidity</th>\n",
       "      <th>citric acid</th>\n",
       "      <th>residual sugar</th>\n",
       "      <th>chlorides</th>\n",
       "      <th>free sulfur dioxide</th>\n",
       "      <th>total sulfur dioxide</th>\n",
       "      <th>density</th>\n",
       "      <th>pH</th>\n",
       "      <th>sulphates</th>\n",
       "      <th>alcohol</th>\n",
       "      <th>quality</th>\n",
       "    </tr>\n",
       "  </thead>\n",
       "  <tbody>\n",
       "    <tr>\n",
       "      <th>1573</th>\n",
       "      <td>0.148936</td>\n",
       "      <td>0.380165</td>\n",
       "      <td>0.253165</td>\n",
       "      <td>0.083916</td>\n",
       "      <td>0.098143</td>\n",
       "      <td>0.185714</td>\n",
       "      <td>0.281046</td>\n",
       "      <td>0.331357</td>\n",
       "      <td>0.582524</td>\n",
       "      <td>0.370370</td>\n",
       "      <td>0.732143</td>\n",
       "      <td>0.6</td>\n",
       "    </tr>\n",
       "    <tr>\n",
       "      <th>413</th>\n",
       "      <td>0.563830</td>\n",
       "      <td>0.231405</td>\n",
       "      <td>0.670886</td>\n",
       "      <td>0.384615</td>\n",
       "      <td>0.156499</td>\n",
       "      <td>0.057143</td>\n",
       "      <td>0.078431</td>\n",
       "      <td>0.622683</td>\n",
       "      <td>0.281553</td>\n",
       "      <td>0.555556</td>\n",
       "      <td>0.589286</td>\n",
       "      <td>0.8</td>\n",
       "    </tr>\n",
       "    <tr>\n",
       "      <th>1540</th>\n",
       "      <td>0.170213</td>\n",
       "      <td>0.330579</td>\n",
       "      <td>0.101266</td>\n",
       "      <td>0.223776</td>\n",
       "      <td>0.087533</td>\n",
       "      <td>0.128571</td>\n",
       "      <td>0.163399</td>\n",
       "      <td>0.464047</td>\n",
       "      <td>0.563107</td>\n",
       "      <td>0.320988</td>\n",
       "      <td>0.571429</td>\n",
       "      <td>0.6</td>\n",
       "    </tr>\n",
       "    <tr>\n",
       "      <th>1038</th>\n",
       "      <td>0.436170</td>\n",
       "      <td>0.239669</td>\n",
       "      <td>0.518987</td>\n",
       "      <td>0.349650</td>\n",
       "      <td>0.106101</td>\n",
       "      <td>0.328571</td>\n",
       "      <td>0.228758</td>\n",
       "      <td>0.378058</td>\n",
       "      <td>0.252427</td>\n",
       "      <td>0.493827</td>\n",
       "      <td>0.750000</td>\n",
       "      <td>0.8</td>\n",
       "    </tr>\n",
       "    <tr>\n",
       "      <th>852</th>\n",
       "      <td>0.361702</td>\n",
       "      <td>0.247934</td>\n",
       "      <td>0.405063</td>\n",
       "      <td>0.090909</td>\n",
       "      <td>0.111406</td>\n",
       "      <td>0.342857</td>\n",
       "      <td>0.751634</td>\n",
       "      <td>0.578947</td>\n",
       "      <td>0.233010</td>\n",
       "      <td>0.864198</td>\n",
       "      <td>0.232143</td>\n",
       "      <td>0.4</td>\n",
       "    </tr>\n",
       "  </tbody>\n",
       "</table>\n",
       "</div>"
      ],
      "text/plain": [
       "      fixed acidity  volatile acidity  citric acid  residual sugar  chlorides  \\\n",
       "1573       0.148936          0.380165     0.253165        0.083916   0.098143   \n",
       "413        0.563830          0.231405     0.670886        0.384615   0.156499   \n",
       "1540       0.170213          0.330579     0.101266        0.223776   0.087533   \n",
       "1038       0.436170          0.239669     0.518987        0.349650   0.106101   \n",
       "852        0.361702          0.247934     0.405063        0.090909   0.111406   \n",
       "\n",
       "      free sulfur dioxide  total sulfur dioxide   density        pH  \\\n",
       "1573             0.185714              0.281046  0.331357  0.582524   \n",
       "413              0.057143              0.078431  0.622683  0.281553   \n",
       "1540             0.128571              0.163399  0.464047  0.563107   \n",
       "1038             0.328571              0.228758  0.378058  0.252427   \n",
       "852              0.342857              0.751634  0.578947  0.233010   \n",
       "\n",
       "      sulphates   alcohol  quality  \n",
       "1573   0.370370  0.732143      0.6  \n",
       "413    0.555556  0.589286      0.8  \n",
       "1540   0.320988  0.571429      0.6  \n",
       "1038   0.493827  0.750000      0.8  \n",
       "852    0.864198  0.232143      0.4  "
      ]
     },
     "execution_count": 140,
     "metadata": {},
     "output_type": "execute_result"
    }
   ],
   "source": [
    "df_test.head()"
   ]
  },
  {
   "cell_type": "code",
   "execution_count": 141,
   "metadata": {
    "execution": {
     "iopub.execute_input": "2020-10-05T17:05:43.749203Z",
     "iopub.status.busy": "2020-10-05T17:05:43.746101Z",
     "iopub.status.idle": "2020-10-05T17:05:43.821757Z",
     "shell.execute_reply": "2020-10-05T17:05:43.820665Z"
    },
    "papermill": {
     "duration": 0.362881,
     "end_time": "2020-10-05T17:05:43.821953",
     "exception": false,
     "start_time": "2020-10-05T17:05:43.459072",
     "status": "completed"
    },
    "tags": []
   },
   "outputs": [
    {
     "data": {
      "text/html": [
       "<div>\n",
       "<style scoped>\n",
       "    .dataframe tbody tr th:only-of-type {\n",
       "        vertical-align: middle;\n",
       "    }\n",
       "\n",
       "    .dataframe tbody tr th {\n",
       "        vertical-align: top;\n",
       "    }\n",
       "\n",
       "    .dataframe thead th {\n",
       "        text-align: right;\n",
       "    }\n",
       "</style>\n",
       "<table border=\"1\" class=\"dataframe\">\n",
       "  <thead>\n",
       "    <tr style=\"text-align: right;\">\n",
       "      <th></th>\n",
       "      <th>fixed acidity</th>\n",
       "      <th>volatile acidity</th>\n",
       "      <th>citric acid</th>\n",
       "      <th>residual sugar</th>\n",
       "      <th>chlorides</th>\n",
       "      <th>free sulfur dioxide</th>\n",
       "      <th>total sulfur dioxide</th>\n",
       "      <th>density</th>\n",
       "      <th>pH</th>\n",
       "      <th>sulphates</th>\n",
       "      <th>alcohol</th>\n",
       "      <th>quality</th>\n",
       "    </tr>\n",
       "  </thead>\n",
       "  <tbody>\n",
       "    <tr>\n",
       "      <th>count</th>\n",
       "      <td>408.000000</td>\n",
       "      <td>408.000000</td>\n",
       "      <td>408.000000</td>\n",
       "      <td>408.000000</td>\n",
       "      <td>408.000000</td>\n",
       "      <td>408.000000</td>\n",
       "      <td>408.000000</td>\n",
       "      <td>408.000000</td>\n",
       "      <td>408.000000</td>\n",
       "      <td>408.000000</td>\n",
       "      <td>408.000000</td>\n",
       "      <td>408.000000</td>\n",
       "    </tr>\n",
       "    <tr>\n",
       "      <th>mean</th>\n",
       "      <td>0.393747</td>\n",
       "      <td>0.335278</td>\n",
       "      <td>0.334016</td>\n",
       "      <td>0.093866</td>\n",
       "      <td>0.122373</td>\n",
       "      <td>0.186887</td>\n",
       "      <td>0.249800</td>\n",
       "      <td>0.485143</td>\n",
       "      <td>0.328027</td>\n",
       "      <td>0.342683</td>\n",
       "      <td>0.365335</td>\n",
       "      <td>0.516176</td>\n",
       "    </tr>\n",
       "    <tr>\n",
       "      <th>std</th>\n",
       "      <td>0.184653</td>\n",
       "      <td>0.147134</td>\n",
       "      <td>0.237979</td>\n",
       "      <td>0.102301</td>\n",
       "      <td>0.087390</td>\n",
       "      <td>0.148577</td>\n",
       "      <td>0.212854</td>\n",
       "      <td>0.139237</td>\n",
       "      <td>0.148936</td>\n",
       "      <td>0.166481</td>\n",
       "      <td>0.198185</td>\n",
       "      <td>0.171518</td>\n",
       "    </tr>\n",
       "    <tr>\n",
       "      <th>min</th>\n",
       "      <td>0.000000</td>\n",
       "      <td>0.000000</td>\n",
       "      <td>0.000000</td>\n",
       "      <td>0.000000</td>\n",
       "      <td>0.000000</td>\n",
       "      <td>0.000000</td>\n",
       "      <td>0.000000</td>\n",
       "      <td>0.000000</td>\n",
       "      <td>0.000000</td>\n",
       "      <td>0.000000</td>\n",
       "      <td>0.000000</td>\n",
       "      <td>0.000000</td>\n",
       "    </tr>\n",
       "    <tr>\n",
       "      <th>25%</th>\n",
       "      <td>0.265957</td>\n",
       "      <td>0.223140</td>\n",
       "      <td>0.113924</td>\n",
       "      <td>0.048951</td>\n",
       "      <td>0.082228</td>\n",
       "      <td>0.071429</td>\n",
       "      <td>0.091503</td>\n",
       "      <td>0.399926</td>\n",
       "      <td>0.233010</td>\n",
       "      <td>0.222222</td>\n",
       "      <td>0.196429</td>\n",
       "      <td>0.400000</td>\n",
       "    </tr>\n",
       "    <tr>\n",
       "      <th>50%</th>\n",
       "      <td>0.351064</td>\n",
       "      <td>0.330579</td>\n",
       "      <td>0.316456</td>\n",
       "      <td>0.069930</td>\n",
       "      <td>0.106101</td>\n",
       "      <td>0.157143</td>\n",
       "      <td>0.186275</td>\n",
       "      <td>0.489251</td>\n",
       "      <td>0.320388</td>\n",
       "      <td>0.308642</td>\n",
       "      <td>0.321429</td>\n",
       "      <td>0.500000</td>\n",
       "    </tr>\n",
       "    <tr>\n",
       "      <th>75%</th>\n",
       "      <td>0.489362</td>\n",
       "      <td>0.429752</td>\n",
       "      <td>0.531646</td>\n",
       "      <td>0.097902</td>\n",
       "      <td>0.137931</td>\n",
       "      <td>0.257143</td>\n",
       "      <td>0.346405</td>\n",
       "      <td>0.565048</td>\n",
       "      <td>0.410194</td>\n",
       "      <td>0.419753</td>\n",
       "      <td>0.482143</td>\n",
       "      <td>0.600000</td>\n",
       "    </tr>\n",
       "    <tr>\n",
       "      <th>max</th>\n",
       "      <td>1.000000</td>\n",
       "      <td>1.000000</td>\n",
       "      <td>1.000000</td>\n",
       "      <td>1.000000</td>\n",
       "      <td>1.000000</td>\n",
       "      <td>1.000000</td>\n",
       "      <td>1.000000</td>\n",
       "      <td>1.000000</td>\n",
       "      <td>1.000000</td>\n",
       "      <td>1.000000</td>\n",
       "      <td>1.000000</td>\n",
       "      <td>1.000000</td>\n",
       "    </tr>\n",
       "  </tbody>\n",
       "</table>\n",
       "</div>"
      ],
      "text/plain": [
       "       fixed acidity  volatile acidity  citric acid  residual sugar  \\\n",
       "count     408.000000        408.000000   408.000000      408.000000   \n",
       "mean        0.393747          0.335278     0.334016        0.093866   \n",
       "std         0.184653          0.147134     0.237979        0.102301   \n",
       "min         0.000000          0.000000     0.000000        0.000000   \n",
       "25%         0.265957          0.223140     0.113924        0.048951   \n",
       "50%         0.351064          0.330579     0.316456        0.069930   \n",
       "75%         0.489362          0.429752     0.531646        0.097902   \n",
       "max         1.000000          1.000000     1.000000        1.000000   \n",
       "\n",
       "        chlorides  free sulfur dioxide  total sulfur dioxide     density  \\\n",
       "count  408.000000           408.000000            408.000000  408.000000   \n",
       "mean     0.122373             0.186887              0.249800    0.485143   \n",
       "std      0.087390             0.148577              0.212854    0.139237   \n",
       "min      0.000000             0.000000              0.000000    0.000000   \n",
       "25%      0.082228             0.071429              0.091503    0.399926   \n",
       "50%      0.106101             0.157143              0.186275    0.489251   \n",
       "75%      0.137931             0.257143              0.346405    0.565048   \n",
       "max      1.000000             1.000000              1.000000    1.000000   \n",
       "\n",
       "               pH   sulphates     alcohol     quality  \n",
       "count  408.000000  408.000000  408.000000  408.000000  \n",
       "mean     0.328027    0.342683    0.365335    0.516176  \n",
       "std      0.148936    0.166481    0.198185    0.171518  \n",
       "min      0.000000    0.000000    0.000000    0.000000  \n",
       "25%      0.233010    0.222222    0.196429    0.400000  \n",
       "50%      0.320388    0.308642    0.321429    0.500000  \n",
       "75%      0.410194    0.419753    0.482143    0.600000  \n",
       "max      1.000000    1.000000    1.000000    1.000000  "
      ]
     },
     "execution_count": 141,
     "metadata": {},
     "output_type": "execute_result"
    }
   ],
   "source": [
    "df_test.describe()"
   ]
  },
  {
   "cell_type": "markdown",
   "metadata": {
    "papermill": {
     "duration": 0.213173,
     "end_time": "2020-10-05T17:05:44.264139",
     "exception": false,
     "start_time": "2020-10-05T17:05:44.050966",
     "status": "completed"
    },
    "tags": []
   },
   "source": [
    "### Dividing into X_test and y_test"
   ]
  },
  {
   "cell_type": "code",
   "execution_count": 142,
   "metadata": {
    "execution": {
     "iopub.execute_input": "2020-10-05T17:05:44.712008Z",
     "iopub.status.busy": "2020-10-05T17:05:44.710330Z",
     "iopub.status.idle": "2020-10-05T17:05:44.725329Z",
     "shell.execute_reply": "2020-10-05T17:05:44.726151Z"
    },
    "papermill": {
     "duration": 0.246602,
     "end_time": "2020-10-05T17:05:44.726339",
     "exception": false,
     "start_time": "2020-10-05T17:05:44.479737",
     "status": "completed"
    },
    "tags": []
   },
   "outputs": [
    {
     "name": "stdout",
     "output_type": "stream",
     "text": [
      "<class 'pandas.core.frame.DataFrame'>\n",
      "Index: 408 entries, 1573 to 677\n",
      "Data columns (total 11 columns):\n",
      " #   Column                Non-Null Count  Dtype  \n",
      "---  ------                --------------  -----  \n",
      " 0   fixed acidity         408 non-null    float64\n",
      " 1   volatile acidity      408 non-null    float64\n",
      " 2   citric acid           408 non-null    float64\n",
      " 3   residual sugar        408 non-null    float64\n",
      " 4   chlorides             408 non-null    float64\n",
      " 5   free sulfur dioxide   408 non-null    float64\n",
      " 6   total sulfur dioxide  408 non-null    float64\n",
      " 7   density               408 non-null    float64\n",
      " 8   pH                    408 non-null    float64\n",
      " 9   sulphates             408 non-null    float64\n",
      " 10  alcohol               408 non-null    float64\n",
      "dtypes: float64(11)\n",
      "memory usage: 38.2 KB\n"
     ]
    }
   ],
   "source": [
    "y_test = df_test.pop('quality')\n",
    "X_test = df_test\n",
    "X_test.info()"
   ]
  },
  {
   "cell_type": "code",
   "execution_count": 143,
   "metadata": {
    "execution": {
     "iopub.execute_input": "2020-10-05T17:05:45.181176Z",
     "iopub.status.busy": "2020-10-05T17:05:45.180236Z",
     "iopub.status.idle": "2020-10-05T17:05:45.186490Z",
     "shell.execute_reply": "2020-10-05T17:05:45.184795Z"
    },
    "papermill": {
     "duration": 0.248191,
     "end_time": "2020-10-05T17:05:45.186685",
     "exception": false,
     "start_time": "2020-10-05T17:05:44.938494",
     "status": "completed"
    },
    "tags": []
   },
   "outputs": [
    {
     "name": "stdout",
     "output_type": "stream",
     "text": [
      "<class 'pandas.core.frame.DataFrame'>\n",
      "Index: 408 entries, 1573 to 677\n",
      "Data columns (total 3 columns):\n",
      " #   Column            Non-Null Count  Dtype  \n",
      "---  ------            --------------  -----  \n",
      " 0   const             408 non-null    float64\n",
      " 1   volatile acidity  408 non-null    float64\n",
      " 2   alcohol           408 non-null    float64\n",
      "dtypes: float64(3)\n",
      "memory usage: 12.8 KB\n"
     ]
    }
   ],
   "source": [
    "#Selecting the variables that were part of final model.\n",
    "col1=X_train_new.columns\n",
    "X_test=X_test[col1]\n",
    "# Adding constant variable to test dataframe\n",
    "X_test_lm8 = sm.add_constant(X_test)\n",
    "X_test_lm8.info()"
   ]
  },
  {
   "cell_type": "code",
   "execution_count": 144,
   "metadata": {
    "execution": {
     "iopub.execute_input": "2020-10-05T17:05:45.624188Z",
     "iopub.status.busy": "2020-10-05T17:05:45.623247Z",
     "iopub.status.idle": "2020-10-05T17:05:45.628280Z",
     "shell.execute_reply": "2020-10-05T17:05:45.627444Z"
    },
    "papermill": {
     "duration": 0.230752,
     "end_time": "2020-10-05T17:05:45.628422",
     "exception": false,
     "start_time": "2020-10-05T17:05:45.397670",
     "status": "completed"
    },
    "tags": []
   },
   "outputs": [],
   "source": [
    "y_pred = lr8.predict(X_test_lm8)"
   ]
  },
  {
   "cell_type": "code",
   "execution_count": 145,
   "metadata": {
    "execution": {
     "iopub.execute_input": "2020-10-05T17:05:46.076165Z",
     "iopub.status.busy": "2020-10-05T17:05:46.071776Z",
     "iopub.status.idle": "2020-10-05T17:05:46.281135Z",
     "shell.execute_reply": "2020-10-05T17:05:46.280155Z"
    },
    "papermill": {
     "duration": 0.444621,
     "end_time": "2020-10-05T17:05:46.281303",
     "exception": false,
     "start_time": "2020-10-05T17:05:45.836682",
     "status": "completed"
    },
    "tags": []
   },
   "outputs": [
    {
     "data": {
      "image/png": "[encoded data removed]",
      "text/plain": [
       "<Figure size 640x480 with 1 Axes>"
      ]
     },
     "metadata": {},
     "output_type": "display_data"
    }
   ],
   "source": [
    "fig = plt.figure()\n",
    "plt.scatter(y_test, y_pred, alpha=.5)\n",
    "fig.suptitle('y_test vs y_pred', fontsize = 20)              # Plot heading \n",
    "plt.xlabel('y_test', fontsize = 18)                          # X-label\n",
    "plt.ylabel('y_pred', fontsize = 16) \n",
    "plt.show()"
   ]
  },
  {
   "cell_type": "code",
   "execution_count": 146,
   "metadata": {
    "execution": {
     "iopub.execute_input": "2020-10-05T17:05:46.794253Z",
     "iopub.status.busy": "2020-10-05T17:05:46.792664Z",
     "iopub.status.idle": "2020-10-05T17:05:46.799040Z",
     "shell.execute_reply": "2020-10-05T17:05:46.798039Z"
    },
    "papermill": {
     "duration": 0.30479,
     "end_time": "2020-10-05T17:05:46.799184",
     "exception": false,
     "start_time": "2020-10-05T17:05:46.494394",
     "status": "completed"
    },
    "tags": []
   },
   "outputs": [
    {
     "data": {
      "text/html": [
       "<div>\n",
       "<style scoped>\n",
       "    .dataframe tbody tr th:only-of-type {\n",
       "        vertical-align: middle;\n",
       "    }\n",
       "\n",
       "    .dataframe tbody tr th {\n",
       "        vertical-align: top;\n",
       "    }\n",
       "\n",
       "    .dataframe thead th {\n",
       "        text-align: right;\n",
       "    }\n",
       "</style>\n",
       "<table border=\"1\" class=\"dataframe\">\n",
       "  <thead>\n",
       "    <tr style=\"text-align: right;\">\n",
       "      <th></th>\n",
       "      <th>Actual</th>\n",
       "      <th>Predictions</th>\n",
       "    </tr>\n",
       "  </thead>\n",
       "  <tbody>\n",
       "    <tr>\n",
       "      <th>1573</th>\n",
       "      <td>0.6</td>\n",
       "      <td>0.66</td>\n",
       "    </tr>\n",
       "    <tr>\n",
       "      <th>413</th>\n",
       "      <td>0.8</td>\n",
       "      <td>0.65</td>\n",
       "    </tr>\n",
       "    <tr>\n",
       "      <th>1540</th>\n",
       "      <td>0.6</td>\n",
       "      <td>0.61</td>\n",
       "    </tr>\n",
       "    <tr>\n",
       "      <th>1038</th>\n",
       "      <td>0.8</td>\n",
       "      <td>0.72</td>\n",
       "    </tr>\n",
       "    <tr>\n",
       "      <th>852</th>\n",
       "      <td>0.4</td>\n",
       "      <td>0.50</td>\n",
       "    </tr>\n",
       "  </tbody>\n",
       "</table>\n",
       "</div>"
      ],
      "text/plain": [
       "      Actual  Predictions\n",
       "1573     0.6         0.66\n",
       "413      0.8         0.65\n",
       "1540     0.6         0.61\n",
       "1038     0.8         0.72\n",
       "852      0.4         0.50"
      ]
     },
     "execution_count": 146,
     "metadata": {},
     "output_type": "execute_result"
    }
   ],
   "source": [
    "df= pd.DataFrame({'Actual':y_test,'Predictions':y_pred})\n",
    "df['Predictions']= round(df['Predictions'],2)\n",
    "df.head()"
   ]
  },
  {
   "cell_type": "code",
   "execution_count": 148,
   "metadata": {
    "execution": {
     "iopub.execute_input": "2020-10-05T17:05:47.287028Z",
     "iopub.status.busy": "2020-10-05T17:05:47.285211Z",
     "iopub.status.idle": "2020-10-05T17:05:47.731403Z",
     "shell.execute_reply": "2020-10-05T17:05:47.730311Z"
    },
    "papermill": {
     "duration": 0.70564,
     "end_time": "2020-10-05T17:05:47.731607",
     "exception": false,
     "start_time": "2020-10-05T17:05:47.025967",
     "status": "completed"
    },
    "tags": []
   },
   "outputs": [
    {
     "data": {
      "image/png": "[encoded data removed]",
      "text/plain": [
       "<Figure size 640x480 with 1 Axes>"
      ]
     },
     "metadata": {},
     "output_type": "display_data"
    }
   ],
   "source": [
    "import seaborn as sns\n",
    "import matplotlib.pyplot as plt\n",
    "\n",
    "sns.regplot(x='Actual', y='Predictions', data=df)\n",
    "plt.show()"
   ]
  },
  {
   "cell_type": "markdown",
   "metadata": {
    "papermill": {
     "duration": 0.223002,
     "end_time": "2020-10-05T17:05:48.179032",
     "exception": false,
     "start_time": "2020-10-05T17:05:47.956030",
     "status": "completed"
    },
    "tags": []
   },
   "source": [
    "### R^2 Value for TEST"
   ]
  },
  {
   "cell_type": "code",
   "execution_count": 149,
   "metadata": {
    "execution": {
     "iopub.execute_input": "2020-10-05T17:05:48.623720Z",
     "iopub.status.busy": "2020-10-05T17:05:48.622648Z",
     "iopub.status.idle": "2020-10-05T17:05:48.628557Z",
     "shell.execute_reply": "2020-10-05T17:05:48.627422Z"
    },
    "papermill": {
     "duration": 0.227471,
     "end_time": "2020-10-05T17:05:48.628749",
     "exception": false,
     "start_time": "2020-10-05T17:05:48.401278",
     "status": "completed"
    },
    "tags": []
   },
   "outputs": [
    {
     "data": {
      "text/plain": [
       "0.322640891507851"
      ]
     },
     "execution_count": 149,
     "metadata": {},
     "output_type": "execute_result"
    }
   ],
   "source": [
    "from sklearn.metrics import r2_score\n",
    "r2_score(y_test, y_pred)"
   ]
  },
  {
   "cell_type": "markdown",
   "metadata": {
    "papermill": {
     "duration": 0.229597,
     "end_time": "2020-10-05T17:05:49.096086",
     "exception": false,
     "start_time": "2020-10-05T17:05:48.866489",
     "status": "completed"
    },
    "tags": []
   },
   "source": [
    "### Adjusted R^2 Value for TEST"
   ]
  },
  {
   "cell_type": "code",
   "execution_count": 150,
   "metadata": {
    "execution": {
     "iopub.execute_input": "2020-10-05T17:05:49.546830Z",
     "iopub.status.busy": "2020-10-05T17:05:49.545420Z",
     "iopub.status.idle": "2020-10-05T17:05:49.552695Z",
     "shell.execute_reply": "2020-10-05T17:05:49.553343Z"
    },
    "papermill": {
     "duration": 0.235764,
     "end_time": "2020-10-05T17:05:49.553516",
     "exception": false,
     "start_time": "2020-10-05T17:05:49.317752",
     "status": "completed"
    },
    "tags": []
   },
   "outputs": [
    {
     "data": {
      "text/plain": [
       "(408, 2)"
      ]
     },
     "execution_count": 150,
     "metadata": {},
     "output_type": "execute_result"
    }
   ],
   "source": [
    "r2=0.32264089150785114\n",
    "X_test.shape"
   ]
  },
  {
   "cell_type": "code",
   "execution_count": 151,
   "metadata": {
    "execution": {
     "iopub.execute_input": "2020-10-05T17:05:50.002463Z",
     "iopub.status.busy": "2020-10-05T17:05:50.000899Z",
     "iopub.status.idle": "2020-10-05T17:05:50.010676Z",
     "shell.execute_reply": "2020-10-05T17:05:50.009855Z"
    },
    "papermill": {
     "duration": 0.243973,
     "end_time": "2020-10-05T17:05:50.010812",
     "exception": false,
     "start_time": "2020-10-05T17:05:49.766839",
     "status": "completed"
    },
    "tags": []
   },
   "outputs": [
    {
     "data": {
      "text/plain": [
       "0.31929590825603815"
      ]
     },
     "execution_count": 151,
     "metadata": {},
     "output_type": "execute_result"
    }
   ],
   "source": [
    "n = X_test.shape[0]\n",
    "\n",
    "\n",
    "# Number of features (predictors, p) is the shape along axis 1\n",
    "p = X_test.shape[1]\n",
    "\n",
    "# We find the Adjusted R-squared using the formula\n",
    "\n",
    "adjusted_r2 = 1-(1-r2)*(n-1)/(n-p-1)\n",
    "adjusted_r2"
   ]
  },
  {
   "cell_type": "markdown",
   "metadata": {
    "papermill": {
     "duration": 0.228373,
     "end_time": "2020-10-05T17:05:50.467881",
     "exception": false,
     "start_time": "2020-10-05T17:05:50.239508",
     "status": "completed"
    },
    "tags": []
   },
   "source": [
    "### Final Result Comparison"
   ]
  },
  {
   "cell_type": "markdown",
   "metadata": {
    "papermill": {
     "duration": 0.217065,
     "end_time": "2020-10-05T17:05:50.909778",
     "exception": false,
     "start_time": "2020-10-05T17:05:50.692713",
     "status": "completed"
    },
    "tags": []
   },
   "source": [
    "Train R^2 :0.325\n",
    "\n",
    "Train Adjusted R^2 :0.323\n",
    "\n",
    "Test R^2 :0.322\n",
    "\n",
    "Test Adjusted R^2 :0.319"
   ]
  },
  {
   "cell_type": "markdown",
   "metadata": {
    "papermill": {
     "duration": 0.230288,
     "end_time": "2020-10-05T17:05:51.357863",
     "exception": false,
     "start_time": "2020-10-05T17:05:51.127575",
     "status": "completed"
    },
    "tags": []
   },
   "source": [
    "### Evaluating Model Performance:\n",
    "Mean Absolute Error (MAE) is the mean of the absolute value of the errors.\n",
    "\n",
    "Mean Squared Error (MSE) is the mean of the squared errors.\n",
    "\n",
    "Root Mean Squared Error (RMSE) is the square root of the mean of the squared errors."
   ]
  },
  {
   "cell_type": "code",
   "execution_count": 152,
   "metadata": {
    "execution": {
     "iopub.execute_input": "2020-10-05T17:05:51.827938Z",
     "iopub.status.busy": "2020-10-05T17:05:51.826395Z",
     "iopub.status.idle": "2020-10-05T17:05:51.832436Z",
     "shell.execute_reply": "2020-10-05T17:05:51.835032Z"
    },
    "papermill": {
     "duration": 0.264781,
     "end_time": "2020-10-05T17:05:51.835578",
     "exception": false,
     "start_time": "2020-10-05T17:05:51.570797",
     "status": "completed"
    },
    "tags": []
   },
   "outputs": [
    {
     "name": "stdout",
     "output_type": "stream",
     "text": [
      "MAE: 0.1075444456145748\n",
      "MSE: 0.0198778921190938\n",
      "RMSE: 0.14098897871498253\n"
     ]
    }
   ],
   "source": [
    "from sklearn import metrics\n",
    "\n",
    "print('MAE:', metrics.mean_absolute_error(y_test, y_pred))\n",
    "print('MSE:', metrics.mean_squared_error(y_test, y_pred))\n",
    "print('RMSE:', np.sqrt(metrics.mean_squared_error(y_test, y_pred)))"
   ]
  },
  {
   "cell_type": "markdown",
   "metadata": {
    "papermill": {
     "duration": 0.237824,
     "end_time": "2020-10-05T17:05:52.314040",
     "exception": false,
     "start_time": "2020-10-05T17:05:52.076216",
     "status": "completed"
    },
    "tags": []
   },
   "source": [
    "We want the value of RMSE to be as low as possible, as lower the RMSE value is, the better the model is with its predictions"
   ]
  }
 ],
 "metadata": {
  "kernelspec": {
   "display_name": "Python 3 (ipykernel)",
   "language": "python",
   "name": "python3"
  },
  "language_info": {
   "codemirror_mode": {
    "name": "ipython",
    "version": 3
   },
   "file_extension": ".py",
   "mimetype": "text/x-python",
   "name": "python",
   "nbconvert_exporter": "python",
   "pygments_lexer": "ipython3",
   "version": "3.10.4"
  },
  "papermill": {
   "duration": 117.04819,
   "end_time": "2020-10-05T17:05:52.649562",
   "environment_variables": {},
   "exception": null,
   "input_path": "__notebook__.ipynb",
   "output_path": "__notebook__.ipynb",
   "parameters": {},
   "start_time": "2020-10-05T17:03:55.601372",
   "version": "2.1.0"
  }
 },
 "nbformat": 4,
 "nbformat_minor": 4
}
